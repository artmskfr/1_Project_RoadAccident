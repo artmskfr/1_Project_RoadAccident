{
 "cells": [
  {
   "cell_type": "code",
   "execution_count": 1,
   "id": "7a2c1df8-886d-44a5-a383-35301e7f71c9",
   "metadata": {
    "colab": {
     "base_uri": "https://localhost:8080/"
    },
    "id": "7a2c1df8-886d-44a5-a383-35301e7f71c9",
    "outputId": "11262ef9-7b72-4c6e-d32b-1488704e4779"
   },
   "outputs": [],
   "source": [
    "from sklearn import linear_model\n",
    "from sklearn import preprocessing\n",
    "from sklearn.model_selection import train_test_split\n",
    "import pandas as pd\n",
    "import numpy as np\n",
    "import matplotlib.pyplot as plt\n",
    "pd.set_option('display.max_columns', None)\n",
    "from sklearn.neighbors import KNeighborsClassifier\n",
    "from sklearn.cluster import KMeans\n",
    "from sklearn.dummy import DummyClassifier\n",
    "from sklearn import svm\n",
    "from sklearn.model_selection import GridSearchCV\n",
    "from sklearn.metrics import accuracy_score\n",
    "from sklearn.metrics import classification_report\n",
    "from sklearn.metrics import confusion_matrix\n",
    "from sklearn.model_selection import learning_curve\n",
    "from sklearn.preprocessing import StandardScaler\n",
    "\n",
    "from joblib import dump, load"
   ]
  },
  {
   "cell_type": "markdown",
   "id": "f5b6ee8f",
   "metadata": {},
   "source": [
    "# Préparation dataset"
   ]
  },
  {
   "cell_type": "code",
   "execution_count": 2,
   "id": "QffqvhffpcgF",
   "metadata": {
    "colab": {
     "base_uri": "https://localhost:8080/",
     "height": 354
    },
    "id": "QffqvhffpcgF",
    "outputId": "a617fdc9-35f2-46bf-e057-a466c70ded32"
   },
   "outputs": [
    {
     "data": {
      "text/plain": [
       "(423136, 34)"
      ]
     },
     "execution_count": 2,
     "metadata": {},
     "output_type": "execute_result"
    }
   ],
   "source": [
    "# Import des données\n",
    "df = pd.read_csv('data/merged_data_2018_2021_for_model.csv' )\n",
    "df.shape"
   ]
  },
  {
   "cell_type": "code",
   "execution_count": 3,
   "id": "e4aeb201",
   "metadata": {},
   "outputs": [
    {
     "name": "stdout",
     "output_type": "stream",
     "text": [
      "Taille de dataset apres onehotconding (423136, 51)\n"
     ]
    }
   ],
   "source": [
    "# Encodage des variables catégorielles\n",
    "cat_var = df.select_dtypes(include='object').columns\n",
    "encoded_cat = pd.get_dummies(df[cat_var], prefix=cat_var, drop_first=True).astype(int)\n",
    "df = df.drop(columns=cat_var)\n",
    "df = pd.concat([df, encoded_cat], axis=1)\n",
    "print('Taille de dataset apres onehotconding',df.shape)\n"
   ]
  },
  {
   "cell_type": "code",
   "execution_count": 4,
   "id": "33539d07",
   "metadata": {},
   "outputs": [],
   "source": [
    "# Séparation de la variable cible et des variables explicatives\n",
    "X = df.drop(['grav'], axis=1)\n",
    "y = df['grav']"
   ]
  },
  {
   "cell_type": "code",
   "execution_count": 5,
   "id": "6db14b0d",
   "metadata": {},
   "outputs": [],
   "source": [
    "#  Division des données en ensemble d'entrainement et de test\n",
    "X_train, X_test, y_train, y_test = train_test_split(X, y, test_size=0.1, random_state=101, stratify=y)"
   ]
  },
  {
   "cell_type": "code",
   "execution_count": 6,
   "id": "zpkZ-LKgr5p5",
   "metadata": {
    "id": "zpkZ-LKgr5p5"
   },
   "outputs": [],
   "source": [
    "# Standardisation\n",
    "from sklearn import preprocessing\n",
    "scaler = preprocessing.StandardScaler()\n",
    "scaler.fit(X_train)\n",
    "\n",
    "X_train_scaled = scaler.transform(X_train)\n",
    "X_test_scaled = scaler.transform(X_test)"
   ]
  },
  {
   "cell_type": "markdown",
   "id": "a02342b9",
   "metadata": {},
   "source": [
    "# Création variable cible binaire"
   ]
  },
  {
   "cell_type": "code",
   "execution_count": 7,
   "id": "e7d2269a",
   "metadata": {},
   "outputs": [],
   "source": [
    "# Création variable cible binaire\n",
    "y_bin = y.replace([1, 2], 0) \\\n",
    "         .replace([3, 4], 1)\n",
    "y_train_bin = y_train.replace([1, 2], 0) \\\n",
    "                         .replace([3, 4], 1)\n",
    "y_test_bin = y_test.replace([1, 2], 0) \\\n",
    "                        .replace([3, 4], 1)"
   ]
  },
  {
   "cell_type": "markdown",
   "id": "c2fbcee1",
   "metadata": {},
   "source": [
    "# Dummy classifier 4 classes"
   ]
  },
  {
   "cell_type": "code",
   "execution_count": 8,
   "id": "200eb072",
   "metadata": {},
   "outputs": [
    {
     "name": "stdout",
     "output_type": "stream",
     "text": [
      "              precision    recall  f1-score   support\n",
      "\n",
      "         1.0       0.42      1.00      0.60     17964\n",
      "         2.0       0.00      0.00      0.00      1096\n",
      "         3.0       0.00      0.00      0.00      6667\n",
      "         4.0       0.00      0.00      0.00     16587\n",
      "\n",
      "    accuracy                           0.42     42314\n",
      "   macro avg       0.11      0.25      0.15     42314\n",
      "weighted avg       0.18      0.42      0.25     42314\n",
      "\n"
     ]
    },
    {
     "name": "stderr",
     "output_type": "stream",
     "text": [
      "C:\\Users\\juliette.brezillon\\Anaconda3\\lib\\site-packages\\sklearn\\metrics\\_classification.py:1318: UndefinedMetricWarning: Precision and F-score are ill-defined and being set to 0.0 in labels with no predicted samples. Use `zero_division` parameter to control this behavior.\n",
      "  _warn_prf(average, modifier, msg_start, len(result))\n",
      "C:\\Users\\juliette.brezillon\\Anaconda3\\lib\\site-packages\\sklearn\\metrics\\_classification.py:1318: UndefinedMetricWarning: Precision and F-score are ill-defined and being set to 0.0 in labels with no predicted samples. Use `zero_division` parameter to control this behavior.\n",
      "  _warn_prf(average, modifier, msg_start, len(result))\n",
      "C:\\Users\\juliette.brezillon\\Anaconda3\\lib\\site-packages\\sklearn\\metrics\\_classification.py:1318: UndefinedMetricWarning: Precision and F-score are ill-defined and being set to 0.0 in labels with no predicted samples. Use `zero_division` parameter to control this behavior.\n",
      "  _warn_prf(average, modifier, msg_start, len(result))\n"
     ]
    }
   ],
   "source": [
    "# Test DummyClassifier pour comparaison\n",
    "dummy_clf = DummyClassifier(strategy=\"most_frequent\")\n",
    "dummy_clf.fit(X_train_scaled, y_train)\n",
    "y_pred_dum = dummy_clf.predict(X_test_scaled)\n",
    "print(classification_report(y_test,y_pred_dum))"
   ]
  },
  {
   "cell_type": "markdown",
   "id": "e5e55748",
   "metadata": {},
   "source": [
    "# KNN 4 classes"
   ]
  },
  {
   "cell_type": "code",
   "execution_count": 17,
   "id": "RE7Uyiicr51Y",
   "metadata": {
    "colab": {
     "base_uri": "https://localhost:8080/"
    },
    "id": "RE7Uyiicr51Y",
    "outputId": "d8c538ee-47f5-4cec-aa85-659152947f4e"
   },
   "outputs": [
    {
     "name": "stderr",
     "output_type": "stream",
     "text": [
      "C:\\Users\\juliette.brezillon\\Anaconda3\\lib\\site-packages\\sklearn\\neighbors\\_classification.py:228: FutureWarning: Unlike other reduction functions (e.g. `skew`, `kurtosis`), the default behavior of `mode` typically preserves the axis it acts along. In SciPy 1.11.0, this behavior will change: the default value of `keepdims` will become False, the `axis` over which the statistic is taken will be eliminated, and the value None will no longer be accepted. Set `keepdims` to True or False to avoid this warning.\n",
      "  mode, _ = stats.mode(_y[neigh_ind, k], axis=1)\n"
     ]
    },
    {
     "name": "stdout",
     "output_type": "stream",
     "text": [
      "              precision    recall  f1-score        support\n",
      "1.0            0.714431  0.903099  0.797762  161670.000000\n",
      "2.0            0.595995  0.277434  0.378621    9869.000000\n",
      "3.0            0.614325  0.589947  0.601889   60002.000000\n",
      "4.0            0.767741  0.587543  0.665662  149281.000000\n",
      "accuracy       0.713848  0.713848  0.713848       0.713848\n",
      "macro avg      0.673123  0.589506  0.610984  380822.000000\n",
      "weighted avg   0.716486  0.713848  0.704256  380822.000000\n"
     ]
    },
    {
     "name": "stderr",
     "output_type": "stream",
     "text": [
      "C:\\Users\\juliette.brezillon\\Anaconda3\\lib\\site-packages\\sklearn\\neighbors\\_classification.py:228: FutureWarning: Unlike other reduction functions (e.g. `skew`, `kurtosis`), the default behavior of `mode` typically preserves the axis it acts along. In SciPy 1.11.0, this behavior will change: the default value of `keepdims` will become False, the `axis` over which the statistic is taken will be eliminated, and the value None will no longer be accepted. Set `keepdims` to True or False to avoid this warning.\n",
      "  mode, _ = stats.mode(_y[neigh_ind, k], axis=1)\n"
     ]
    },
    {
     "name": "stdout",
     "output_type": "stream",
     "text": [
      "              precision    recall  f1-score       support\n",
      "1.0            0.616525  0.796705  0.695128  17964.000000\n",
      "2.0            0.213992  0.094891  0.131479   1096.000000\n",
      "3.0            0.379866  0.357132  0.368148   6667.000000\n",
      "4.0            0.568119  0.422861  0.484844  16587.000000\n",
      "accuracy       0.562722  0.562722  0.562722      0.562722\n",
      "macro avg      0.444625  0.417897  0.419900  42314.000000\n",
      "weighted avg   0.549836  0.562722  0.546579  42314.000000\n"
     ]
    },
    {
     "data": {
      "text/plain": [
       "['model/knn_4classes_euclidean.joblib']"
      ]
     },
     "execution_count": 17,
     "metadata": {},
     "output_type": "execute_result"
    }
   ],
   "source": [
    "# KNN supervisé variable cible 4 catégories\n",
    "# distance euclidienne\n",
    "\n",
    "knn =  KNeighborsClassifier(n_neighbors=4, metric='euclidean')\n",
    "knn.fit(X_train_scaled, y_train)\n",
    "\n",
    "# train score\n",
    "y_pred = knn.predict(X_train_scaled)\n",
    "clsf_report = pd.DataFrame(classification_report(y_train, y_pred, output_dict=True)).transpose()\n",
    "clsf_report.to_csv('res/knn_4classes_euclidean_train.csv', index= True)\n",
    "print(clsf_report)\n",
    "\n",
    "# test score\n",
    "y_pred= knn.predict(X_test_scaled)\n",
    "clsf_report = pd.DataFrame(classification_report(y_test, y_pred, output_dict=True)).transpose()\n",
    "clsf_report.to_csv('res/knn_4classes_euclidean_test.csv', index= True)\n",
    "print(clsf_report)\n",
    "\n",
    "# sauvegarde modèle\n",
    "dump(knn, 'model/knn_4classes_euclidean.joblib')"
   ]
  },
  {
   "cell_type": "code",
   "execution_count": 18,
   "id": "7esHgZHrpco-",
   "metadata": {
    "colab": {
     "base_uri": "https://localhost:8080/"
    },
    "id": "7esHgZHrpco-",
    "outputId": "f62ea9c8-27e7-46fd-c516-71c6160cbd2e",
    "scrolled": true
   },
   "outputs": [
    {
     "name": "stderr",
     "output_type": "stream",
     "text": [
      "C:\\Users\\juliette.brezillon\\Anaconda3\\lib\\site-packages\\sklearn\\neighbors\\_classification.py:228: FutureWarning: Unlike other reduction functions (e.g. `skew`, `kurtosis`), the default behavior of `mode` typically preserves the axis it acts along. In SciPy 1.11.0, this behavior will change: the default value of `keepdims` will become False, the `axis` over which the statistic is taken will be eliminated, and the value None will no longer be accepted. Set `keepdims` to True or False to avoid this warning.\n",
      "  mode, _ = stats.mode(_y[neigh_ind, k], axis=1)\n"
     ]
    },
    {
     "name": "stdout",
     "output_type": "stream",
     "text": [
      "              precision    recall  f1-score        support\n",
      "1.0            0.714431  0.903099  0.797762  161670.000000\n",
      "2.0            0.595995  0.277434  0.378621    9869.000000\n",
      "3.0            0.614325  0.589947  0.601889   60002.000000\n",
      "4.0            0.767741  0.587543  0.665662  149281.000000\n",
      "accuracy       0.713848  0.713848  0.713848       0.713848\n",
      "macro avg      0.673123  0.589506  0.610984  380822.000000\n",
      "weighted avg   0.716486  0.713848  0.704256  380822.000000\n"
     ]
    },
    {
     "name": "stderr",
     "output_type": "stream",
     "text": [
      "C:\\Users\\juliette.brezillon\\Anaconda3\\lib\\site-packages\\sklearn\\neighbors\\_classification.py:228: FutureWarning: Unlike other reduction functions (e.g. `skew`, `kurtosis`), the default behavior of `mode` typically preserves the axis it acts along. In SciPy 1.11.0, this behavior will change: the default value of `keepdims` will become False, the `axis` over which the statistic is taken will be eliminated, and the value None will no longer be accepted. Set `keepdims` to True or False to avoid this warning.\n",
      "  mode, _ = stats.mode(_y[neigh_ind, k], axis=1)\n"
     ]
    },
    {
     "name": "stdout",
     "output_type": "stream",
     "text": [
      "              precision    recall  f1-score       support\n",
      "1.0            0.616525  0.796705  0.695128  17964.000000\n",
      "2.0            0.213992  0.094891  0.131479   1096.000000\n",
      "3.0            0.379866  0.357132  0.368148   6667.000000\n",
      "4.0            0.568119  0.422861  0.484844  16587.000000\n",
      "accuracy       0.562722  0.562722  0.562722      0.562722\n",
      "macro avg      0.444625  0.417897  0.419900  42314.000000\n",
      "weighted avg   0.549836  0.562722  0.546579  42314.000000\n"
     ]
    },
    {
     "data": {
      "text/plain": [
       "['model/knn_4classes_minkowski.joblib']"
      ]
     },
     "execution_count": 18,
     "metadata": {},
     "output_type": "execute_result"
    }
   ],
   "source": [
    "# KNN supervisé variable cible 4 catégories\n",
    "# distance minkowski\n",
    "\n",
    "knn =  KNeighborsClassifier(n_neighbors=4, metric='minkowski')\n",
    "knn.fit(X_train_scaled, y_train)\n",
    "\n",
    "# train score\n",
    "y_pred = knn.predict(X_train_scaled)\n",
    "clsf_report = pd.DataFrame(classification_report(y_train, y_pred, output_dict=True)).transpose()\n",
    "clsf_report.to_csv('res/knn_4classes_minkowski_train.csv', index= True)\n",
    "print(clsf_report)\n",
    "\n",
    "# test score\n",
    "y_pred= knn.predict(X_test_scaled)\n",
    "clsf_report = pd.DataFrame(classification_report(y_test, y_pred, output_dict=True)).transpose()\n",
    "clsf_report.to_csv('res/knn_4classes_minkowski_test.csv', index= True)\n",
    "print(clsf_report)\n",
    "\n",
    "# sauvegarde modèle\n",
    "dump(knn, 'model/knn_4classes_minkowski.joblib')"
   ]
  },
  {
   "cell_type": "code",
   "execution_count": 11,
   "id": "892c4fd7",
   "metadata": {},
   "outputs": [
    {
     "name": "stdout",
     "output_type": "stream",
     "text": [
      "     Unnamed: 0  precision    recall  f1-score        support\n",
      "0           1.0   0.728464  0.916255  0.811639  161670.000000\n",
      "1           2.0   0.613284  0.300334  0.403210    9869.000000\n",
      "2           3.0   0.629655  0.609296  0.619308   60002.000000\n",
      "3           4.0   0.782641  0.600713  0.679714  149281.000000\n",
      "4      accuracy   0.728238  0.728238  0.728238       0.728238\n",
      "5     macro avg   0.688511  0.606650  0.628468  380822.000000\n",
      "6  weighted avg   0.731148  0.728238  0.719037  380822.000000\n",
      "     Unnamed: 0  precision    recall  f1-score       support\n",
      "0           1.0   0.637928  0.821309  0.718096  17964.000000\n",
      "1           2.0   0.218623  0.098540  0.135849   1096.000000\n",
      "2           3.0   0.397488  0.379781  0.388433   6667.000000\n",
      "3           4.0   0.590651  0.438777  0.503511  16587.000000\n",
      "4      accuracy   0.583069  0.583069  0.583069      0.583069\n",
      "5     macro avg   0.461173  0.434602  0.436472  42314.000000\n",
      "6  weighted avg   0.570651  0.583069  0.566956  42314.000000\n"
     ]
    }
   ],
   "source": [
    "# KNN supervisé variable cible 4 catégories\n",
    "# distance Manhattan\n",
    "\n",
    "knn =  KNeighborsClassifier(n_neighbors=4, metric='manhattan')\n",
    "knn.fit(X_train_scaled, y_train)\n",
    "\n",
    "# train score\n",
    "y_pred = knn.predict(X_train_scaled)\n",
    "clsf_report = pd.DataFrame(classification_report(y_train, y_pred, output_dict=True)).transpose()\n",
    "clsf_report.to_csv('res/knn_4classes_manhattan_train.csv', index= True)\n",
    "print(clsf_report)\n",
    "\n",
    "# test score\n",
    "y_pred= knn.predict(X_test_scaled)\n",
    "clsf_report = pd.DataFrame(classification_report(y_test, y_pred, output_dict=True)).transpose()\n",
    "clsf_report.to_csv('res/knn_4classes_manhattan_test.csv', index= True)\n",
    "print(clsf_report)\n",
    "\n",
    "# sauvegarde modèle\n",
    "dump(knn, 'model/knn_4classes_manhattan.joblib')\n",
    "\n",
    "print(pd.read_csv('res/knn_4classes_manhattan_train.csv'))\n",
    "print(pd.read_csv('res/knn_4classes_manhattan_test.csv'))\n"
   ]
  },
  {
   "cell_type": "code",
   "execution_count": null,
   "id": "wloYcN7JtJsF",
   "metadata": {
    "colab": {
     "base_uri": "https://localhost:8080/"
    },
    "id": "wloYcN7JtJsF",
    "outputId": "1902b86e-4e30-4368-9cc7-21a2ce08f000"
   },
   "outputs": [],
   "source": [
    "# KNN supervisé variable cible 4 catégories\n",
    "# distance Chebyshev\n",
    "\n",
    "knn =  KNeighborsClassifier(n_neighbors=4, metric='chebyshev')\n",
    "knn.fit(X_train_scaled, y_train)\n",
    "\n",
    "# train score\n",
    "y_pred = knn.predict(X_train_scaled)\n",
    "clsf_report = pd.DataFrame(classification_report(y_train, y_pred, output_dict=True)).transpose()\n",
    "clsf_report.to_csv('res/knn_4classes_chebyshev_train.csv', index= True)\n",
    "print(clsf_report)\n",
    "\n",
    "# test score\n",
    "y_pred= knn.predict(X_test_scaled)\n",
    "clsf_report = pd.DataFrame(classification_report(y_test, y_pred, output_dict=True)).transpose()\n",
    "clsf_report.to_csv('res/knn_4classes_chebyshev_test.csv', index= True)\n",
    "print(clsf_report)\n",
    "\n",
    "# sauvegarde modèle\n",
    "dump(knn, 'model/knn_4classes_chebyshev.joblib')"
   ]
  },
  {
   "cell_type": "code",
   "execution_count": 12,
   "id": "f29a2d0c",
   "metadata": {},
   "outputs": [
    {
     "name": "stdout",
     "output_type": "stream",
     "text": [
      "     Unnamed: 0  precision    recall  f1-score        support\n",
      "0           1.0   0.692333  0.857945  0.766293  161670.000000\n",
      "1           2.0   0.530201  0.224136  0.315077    9869.000000\n",
      "2           3.0   0.573555  0.545165  0.559000   60002.000000\n",
      "3           4.0   0.717585  0.573348  0.637409  149281.000000\n",
      "4      accuracy   0.680678  0.680678  0.680678       0.680678\n",
      "5     macro avg   0.628419  0.550149  0.569445  380822.000000\n",
      "6  weighted avg   0.679316  0.680678  0.671417  380822.000000\n",
      "     Unnamed: 0  precision    recall  f1-score       support\n",
      "0           1.0   0.574987  0.713260  0.636702  17964.000000\n",
      "1           2.0   0.144165  0.057482  0.082192   1096.000000\n",
      "2           3.0   0.335282  0.318284  0.326562   6667.000000\n",
      "3           4.0   0.510103  0.407910  0.453318  16587.000000\n",
      "4      accuracy   0.514345  0.514345  0.514345      0.514345\n",
      "5     macro avg   0.391134  0.374234  0.374694  42314.000000\n",
      "6  weighted avg   0.500625  0.514345  0.501588  42314.000000\n"
     ]
    }
   ],
   "source": [
    "print(pd.read_csv('res/knn_4classes_chebyshev_train.csv'))\n",
    "print(pd.read_csv('res/knn_4classes_chebyshev_test.csv'))\n"
   ]
  },
  {
   "cell_type": "markdown",
   "id": "f005c880",
   "metadata": {},
   "source": [
    "# Dummy classifier 2 classes"
   ]
  },
  {
   "cell_type": "code",
   "execution_count": null,
   "id": "tF9F59n4zz4w",
   "metadata": {
    "colab": {
     "base_uri": "https://localhost:8080/"
    },
    "id": "tF9F59n4zz4w",
    "outputId": "8e00028b-7770-42f7-abb0-50fed064aa50"
   },
   "outputs": [],
   "source": [
    "# Test DummyClassifier\n",
    "\n",
    "dummy_clf = DummyClassifier(strategy=\"most_frequent\")\n",
    "dummy_clf.fit(X_train, y_train_bin)\n",
    "y_pred_dum = dummy_clf.predict(X_test)\n",
    "print(dummy_clf.score(X_test, y_test_bin))\n",
    "print(classification_report(y_test_bin,y_pred_dum))"
   ]
  },
  {
   "cell_type": "markdown",
   "id": "6c28cc73",
   "metadata": {
    "colab": {
     "base_uri": "https://localhost:8080/"
    },
    "id": "RnQqCSGbtJyh",
    "outputId": "69285fb1-079c-4f08-d8e6-2fe0fd6257e8"
   },
   "source": [
    "# KNN 2 classes"
   ]
  },
  {
   "cell_type": "code",
   "execution_count": null,
   "id": "fEi7VxAhzWfo",
   "metadata": {
    "colab": {
     "base_uri": "https://localhost:8080/"
    },
    "id": "fEi7VxAhzWfo",
    "outputId": "d103dc3d-4284-42dd-c026-9b807c1c216e"
   },
   "outputs": [],
   "source": [
    "# KNN supervisé variable cible 2 catégories\n",
    "# distance euclidienne\n",
    "\n",
    "knn =  KNeighborsClassifier(n_neighbors=2, metric='euclidean')\n",
    "knn.fit(X_train_scaled, y_train_bin)\n",
    "\n",
    "# train score\n",
    "y_pred = knn.predict(X_train_scaled)\n",
    "clsf_report = pd.DataFrame(classification_report(y_train_bin, y_pred, output_dict=True)).transpose()\n",
    "clsf_report.to_csv('res/knn_2classes_euclidean_train.csv', index= True)\n",
    "print(clsf_report)\n",
    "\n",
    "# test score\n",
    "y_pred= knn.predict(X_test_scaled)\n",
    "clsf_report = pd.DataFrame(classification_report(y_test_bin, y_pred, output_dict=True)).transpose()\n",
    "clsf_report.to_csv('res/knn_2classes_euclidean_test.csv', index= True)\n",
    "print(clsf_report)\n",
    "\n",
    "# sauvegarde modèle\n",
    "dump(knn, 'model/knn_2classes_euclidean.joblib')\n"
   ]
  },
  {
   "cell_type": "code",
   "execution_count": 13,
   "id": "99b28a92",
   "metadata": {},
   "outputs": [
    {
     "name": "stdout",
     "output_type": "stream",
     "text": [
      "     Unnamed: 0  precision    recall  f1-score        support\n",
      "0           0.0   0.719992  0.999953  0.837188  171539.000000\n",
      "1           1.0   0.999944  0.681250  0.810390  209283.000000\n",
      "2      accuracy   0.824808  0.824808  0.824808       0.824808\n",
      "3     macro avg   0.859968  0.840602  0.823789  380822.000000\n",
      "4  weighted avg   0.873841  0.824808  0.822461  380822.000000\n",
      "     Unnamed: 0  precision    recall  f1-score       support\n",
      "0           0.0   0.577319  0.820514  0.677761  19060.000000\n",
      "1           1.0   0.775304  0.507612  0.613529  23254.000000\n",
      "2      accuracy   0.648556  0.648556  0.648556      0.648556\n",
      "3     macro avg   0.676311  0.664063  0.645645  42314.000000\n",
      "4  weighted avg   0.686123  0.648556  0.642462  42314.000000\n"
     ]
    }
   ],
   "source": [
    "print(pd.read_csv('res/knn_2classes_euclidean_train.csv'))\n",
    "print(pd.read_csv('res/knn_2classes_euclidean_test.csv'))\n"
   ]
  },
  {
   "cell_type": "code",
   "execution_count": null,
   "id": "iKmdZQFyzWi3",
   "metadata": {
    "colab": {
     "base_uri": "https://localhost:8080/"
    },
    "id": "iKmdZQFyzWi3",
    "outputId": "1e547c75-4463-458f-e51f-689880542a32"
   },
   "outputs": [],
   "source": [
    "# KNN supervisé variable cible 2 catégories\n",
    "# distance Minkowski\n",
    "\n",
    "knn =  KNeighborsClassifier(n_neighbors=2, metric='minkowski')\n",
    "knn.fit(X_train_scaled, y_train_bin)\n",
    "\n",
    "# train score\n",
    "y_pred = knn.predict(X_train_scaled)\n",
    "clsf_report = pd.DataFrame(classification_report(y_train_bin, y_pred, output_dict=True)).transpose()\n",
    "clsf_report.to_csv('res/knn_2classes_minkowski_train.csv', index= True)\n",
    "print(clsf_report)\n",
    "\n",
    "# test score\n",
    "y_pred= knn.predict(X_test_scaled)\n",
    "clsf_report = pd.DataFrame(classification_report(y_test_bin, y_pred, output_dict=True)).transpose()\n",
    "clsf_report.to_csv('res/knn_2classes_minkowski_test.csv', index= True)\n",
    "print(clsf_report)\n",
    "\n",
    "# sauvegarde modèle\n",
    "dump(knn, 'model/knn_2classes_minkowski.joblib')"
   ]
  },
  {
   "cell_type": "code",
   "execution_count": 14,
   "id": "3730f3c8",
   "metadata": {},
   "outputs": [
    {
     "name": "stdout",
     "output_type": "stream",
     "text": [
      "     Unnamed: 0  precision    recall  f1-score        support\n",
      "0           0.0   0.719992  0.999953  0.837188  171539.000000\n",
      "1           1.0   0.999944  0.681250  0.810390  209283.000000\n",
      "2      accuracy   0.824808  0.824808  0.824808       0.824808\n",
      "3     macro avg   0.859968  0.840602  0.823789  380822.000000\n",
      "4  weighted avg   0.873841  0.824808  0.822461  380822.000000\n",
      "     Unnamed: 0  precision    recall  f1-score       support\n",
      "0           0.0   0.577319  0.820514  0.677761  19060.000000\n",
      "1           1.0   0.775304  0.507612  0.613529  23254.000000\n",
      "2      accuracy   0.648556  0.648556  0.648556      0.648556\n",
      "3     macro avg   0.676311  0.664063  0.645645  42314.000000\n",
      "4  weighted avg   0.686123  0.648556  0.642462  42314.000000\n"
     ]
    }
   ],
   "source": [
    "print(pd.read_csv('res/knn_2classes_minkowski_train.csv'))\n",
    "print(pd.read_csv('res/knn_2classes_minkowski_test.csv'))"
   ]
  },
  {
   "cell_type": "code",
   "execution_count": null,
   "id": "eRCrjJQOzWpQ",
   "metadata": {
    "colab": {
     "base_uri": "https://localhost:8080/"
    },
    "id": "eRCrjJQOzWpQ",
    "outputId": "6270d9ef-b733-4f29-8898-dda3d8d53530"
   },
   "outputs": [],
   "source": [
    "# KNN supervisé variable cible 2 catégories\n",
    "# distance Manhattan\n",
    "\n",
    "knn =  KNeighborsClassifier(n_neighbors=2, metric='manhattan')\n",
    "knn.fit(X_train_scaled, y_train_bin)\n",
    "\n",
    "# train score\n",
    "y_pred = knn.predict(X_train_scaled)\n",
    "clsf_report = pd.DataFrame(classification_report(y_train_bin, y_pred, output_dict=True)).transpose()\n",
    "clsf_report.to_csv('res/knn_2classes_manhattan_train.csv', index= True)\n",
    "print(clsf_report)\n",
    "\n",
    "# test score\n",
    "y_pred= knn.predict(X_test_scaled)\n",
    "clsf_report = pd.DataFrame(classification_report(y_test_bin, y_pred, output_dict=True)).transpose()\n",
    "clsf_report.to_csv('res/knn_2classes_manhattan_test.csv', index= True)\n",
    "print(clsf_report)\n",
    "\n",
    "# sauvegarde modèle\n",
    "dump(knn, 'model/knn_2classes_manhattan.joblib')"
   ]
  },
  {
   "cell_type": "code",
   "execution_count": 15,
   "id": "86170293",
   "metadata": {},
   "outputs": [
    {
     "name": "stdout",
     "output_type": "stream",
     "text": [
      "     Unnamed: 0  precision    recall  f1-score        support\n",
      "0           0.0   0.727403  0.999953  0.842176  171539.000000\n",
      "1           1.0   0.999945  0.692847  0.818540  209283.000000\n",
      "2      accuracy   0.831181  0.831181  0.831181       0.831181\n",
      "3     macro avg   0.863674  0.846400  0.830358  380822.000000\n",
      "4  weighted avg   0.877180  0.831181  0.829186  380822.000000\n",
      "     Unnamed: 0  precision    recall  f1-score       support\n",
      "0           0.0   0.590757  0.834995  0.691957  19060.000000\n",
      "1           1.0   0.795434  0.525888  0.633168  23254.000000\n",
      "2      accuracy   0.665123  0.665123  0.665123      0.665123\n",
      "3     macro avg   0.693096  0.680441  0.662562  42314.000000\n",
      "4  weighted avg   0.703239  0.665123  0.659649  42314.000000\n"
     ]
    }
   ],
   "source": [
    "print(pd.read_csv('res/knn_2classes_manhattan_train.csv'))\n",
    "print(pd.read_csv('res/knn_2classes_manhattan_test.csv'))"
   ]
  },
  {
   "cell_type": "code",
   "execution_count": null,
   "id": "Bo1EH4j2zWty",
   "metadata": {
    "colab": {
     "base_uri": "https://localhost:8080/"
    },
    "id": "Bo1EH4j2zWty",
    "outputId": "a087a1d2-3041-4efd-ad43-916cd1329152"
   },
   "outputs": [],
   "source": [
    "# KNN supervisé variable cible 2 catégories\n",
    "# distance Chebyshev\n",
    "\n",
    "knn =  KNeighborsClassifier(n_neighbors=2, metric='chebyshev')\n",
    "knn.fit(X_train_scaled, y_train_bin)\n",
    "\n",
    "# train score\n",
    "y_pred = knn.predict(X_train_scaled)\n",
    "clsf_report = pd.DataFrame(classification_report(y_train_bin, y_pred, output_dict=True)).transpose()\n",
    "clsf_report.to_csv('res/knn_2classes_chebyshev_train.csv', index= True)\n",
    "print(clsf_report)\n",
    "\n",
    "# test score\n",
    "y_pred= knn.predict(X_test_scaled)\n",
    "clsf_report = pd.DataFrame(classification_report(y_test_bin, y_pred, output_dict=True)).transpose()\n",
    "clsf_report.to_csv('res/knn_2classes_chebyshev_test.csv', index= True)\n",
    "print(clsf_report)\n",
    "\n",
    "# sauvegarde modèle\n",
    "dump(knn, 'model/knn_2classes_chebyshev.joblib')"
   ]
  },
  {
   "cell_type": "code",
   "execution_count": 16,
   "id": "957e53fe",
   "metadata": {},
   "outputs": [
    {
     "name": "stdout",
     "output_type": "stream",
     "text": [
      "     Unnamed: 0  precision    recall  f1-score        support\n",
      "0           0.0   0.710376  0.999953  0.830651  171539.000000\n",
      "1           1.0   0.999943  0.665840  0.799386  209283.000000\n",
      "2      accuracy   0.816339  0.816339  0.816339       0.816339\n",
      "3     macro avg   0.855159  0.832897  0.815018  380822.000000\n",
      "4  weighted avg   0.869509  0.816339  0.813469  380822.000000\n",
      "     Unnamed: 0  precision    recall  f1-score       support\n",
      "0           0.0   0.545502  0.765163  0.636925  19060.000000\n",
      "1           1.0   0.712690  0.477466  0.571833  23254.000000\n",
      "2      accuracy   0.607057  0.607057  0.607057      0.607057\n",
      "3     macro avg   0.629096  0.621314  0.604379  42314.000000\n",
      "4  weighted avg   0.637382  0.607057  0.601153  42314.000000\n"
     ]
    }
   ],
   "source": [
    "print(pd.read_csv('res/knn_2classes_chebyshev_train.csv'))\n",
    "print(pd.read_csv('res/knn_2classes_chebyshev_test.csv'))"
   ]
  },
  {
   "cell_type": "markdown",
   "id": "5172ff22",
   "metadata": {
    "id": "eA97-lG9zWxw"
   },
   "source": [
    "# KNN non supervisé"
   ]
  },
  {
   "cell_type": "code",
   "execution_count": 13,
   "id": "-bi6oDgHtJvd",
   "metadata": {
    "colab": {
     "base_uri": "https://localhost:8080/",
     "height": 670
    },
    "id": "-bi6oDgHtJvd",
    "outputId": "ade15bb5-6c70-4050-9a2e-da6a67266db3"
   },
   "outputs": [
    {
     "data": {
      "image/png": "[encoded data removed]",
      "text/plain": [
       "<Figure size 640x480 with 1 Axes>"
      ]
     },
     "metadata": {},
     "output_type": "display_data"
    },
    {
     "data": {
      "text/plain": [
       "['knn_non_spupervise_euclidean.joblib']"
      ]
     },
     "execution_count": 13,
     "metadata": {},
     "output_type": "execute_result"
    }
   ],
   "source": [
    "# Test KNN non supervisé distance euclidienne\n",
    "# recherche meilleurs k entre 2 et 6\n",
    "\n",
    "from scipy.spatial.distance import cdist\n",
    "\n",
    "X_scaled =  StandardScaler().fit_transform(X)\n",
    "\n",
    "distorsions = []\n",
    "for i in [2,3,4,5,6] :\n",
    "    kmeans = KMeans(n_clusters = i)\n",
    "    kmeans.fit(X_scaled)\n",
    "    distorsions.append(sum(np.min(cdist(X_scaled, kmeans.cluster_centers_, 'euclidean'), axis=1)) / np.size(X, axis = 0))\n",
    "\n",
    "plt.plot([2,3,4,5,6], distorsions, 'gx-')\n",
    "plt.xlabel('Nombre de Clusters K')\n",
    "plt.ylabel('Distorsion SSW/(SSW+SSB)')\n",
    "plt.title('Méthode du coude affichant le nombre de clusters optimal')\n",
    "plt.show()\n",
    "\n",
    "dump(kmeans, 'model/knn_non_supervise_euclidean.joblib')"
   ]
  },
  {
   "cell_type": "code",
   "execution_count": 14,
   "id": "c7d97d20",
   "metadata": {},
   "outputs": [
    {
     "data": {
      "image/png": "[encoded data removed]",
      "text/plain": [
       "<Figure size 640x480 with 1 Axes>"
      ]
     },
     "metadata": {},
     "output_type": "display_data"
    },
    {
     "data": {
      "text/plain": [
       "['knn_non_spupervise_minkowski.joblib']"
      ]
     },
     "execution_count": 14,
     "metadata": {},
     "output_type": "execute_result"
    }
   ],
   "source": [
    "distorsions = []\n",
    "for i in [2,3,4,5,6] :\n",
    "    kmeans = KMeans(n_clusters = i)\n",
    "    kmeans.fit(X_scaled)\n",
    "    distorsions.append(sum(np.min(cdist(X_scaled, kmeans.cluster_centers_, 'minkowski'), axis=1)) / np.size(X, axis = 0))\n",
    "\n",
    "plt.plot([2,3,4,5,6], distorsions, 'gx-')\n",
    "plt.xlabel('Nombre de Clusters K')\n",
    "plt.ylabel('Distorsion SSW/(SSW+SSB)')\n",
    "plt.title('Méthode du coude affichant le nombre de clusters optimal')\n",
    "plt.show()\n",
    "\n",
    "dump(kmeans, 'model/knn_non_supervise_minkowski.joblib')"
   ]
  },
  {
   "cell_type": "code",
   "execution_count": 15,
   "id": "c05a140d",
   "metadata": {},
   "outputs": [
    {
     "ename": "ValueError",
     "evalue": "Unknown Distance Metric: manhattan",
     "output_type": "error",
     "traceback": [
      "\u001b[1;31m---------------------------------------------------------------------------\u001b[0m",
      "\u001b[1;31mValueError\u001b[0m                                Traceback (most recent call last)",
      "\u001b[1;32m~\\AppData\\Local\\Temp\\ipykernel_2704\\2418873804.py\u001b[0m in \u001b[0;36m<module>\u001b[1;34m\u001b[0m\n\u001b[0;32m      3\u001b[0m     \u001b[0mkmeans\u001b[0m \u001b[1;33m=\u001b[0m \u001b[0mKMeans\u001b[0m\u001b[1;33m(\u001b[0m\u001b[0mn_clusters\u001b[0m \u001b[1;33m=\u001b[0m \u001b[0mi\u001b[0m\u001b[1;33m)\u001b[0m\u001b[1;33m\u001b[0m\u001b[1;33m\u001b[0m\u001b[0m\n\u001b[0;32m      4\u001b[0m     \u001b[0mkmeans\u001b[0m\u001b[1;33m.\u001b[0m\u001b[0mfit\u001b[0m\u001b[1;33m(\u001b[0m\u001b[0mX_scaled\u001b[0m\u001b[1;33m)\u001b[0m\u001b[1;33m\u001b[0m\u001b[1;33m\u001b[0m\u001b[0m\n\u001b[1;32m----> 5\u001b[1;33m     \u001b[0mdistorsions\u001b[0m\u001b[1;33m.\u001b[0m\u001b[0mappend\u001b[0m\u001b[1;33m(\u001b[0m\u001b[0msum\u001b[0m\u001b[1;33m(\u001b[0m\u001b[0mnp\u001b[0m\u001b[1;33m.\u001b[0m\u001b[0mmin\u001b[0m\u001b[1;33m(\u001b[0m\u001b[0mcdist\u001b[0m\u001b[1;33m(\u001b[0m\u001b[0mX_scaled\u001b[0m\u001b[1;33m,\u001b[0m \u001b[0mkmeans\u001b[0m\u001b[1;33m.\u001b[0m\u001b[0mcluster_centers_\u001b[0m\u001b[1;33m,\u001b[0m \u001b[1;34m'manhattan'\u001b[0m\u001b[1;33m)\u001b[0m\u001b[1;33m,\u001b[0m \u001b[0maxis\u001b[0m\u001b[1;33m=\u001b[0m\u001b[1;36m1\u001b[0m\u001b[1;33m)\u001b[0m\u001b[1;33m)\u001b[0m \u001b[1;33m/\u001b[0m \u001b[0mnp\u001b[0m\u001b[1;33m.\u001b[0m\u001b[0msize\u001b[0m\u001b[1;33m(\u001b[0m\u001b[0mX\u001b[0m\u001b[1;33m,\u001b[0m \u001b[0maxis\u001b[0m \u001b[1;33m=\u001b[0m \u001b[1;36m0\u001b[0m\u001b[1;33m)\u001b[0m\u001b[1;33m)\u001b[0m\u001b[1;33m\u001b[0m\u001b[1;33m\u001b[0m\u001b[0m\n\u001b[0m\u001b[0;32m      6\u001b[0m \u001b[1;33m\u001b[0m\u001b[0m\n\u001b[0;32m      7\u001b[0m \u001b[0mplt\u001b[0m\u001b[1;33m.\u001b[0m\u001b[0mplot\u001b[0m\u001b[1;33m(\u001b[0m\u001b[1;33m[\u001b[0m\u001b[1;36m2\u001b[0m\u001b[1;33m,\u001b[0m\u001b[1;36m3\u001b[0m\u001b[1;33m,\u001b[0m\u001b[1;36m4\u001b[0m\u001b[1;33m,\u001b[0m\u001b[1;36m5\u001b[0m\u001b[1;33m,\u001b[0m\u001b[1;36m6\u001b[0m\u001b[1;33m]\u001b[0m\u001b[1;33m,\u001b[0m \u001b[0mdistorsions\u001b[0m\u001b[1;33m,\u001b[0m \u001b[1;34m'gx-'\u001b[0m\u001b[1;33m)\u001b[0m\u001b[1;33m\u001b[0m\u001b[1;33m\u001b[0m\u001b[0m\n",
      "\u001b[1;32m~\\Anaconda3\\lib\\site-packages\\scipy\\spatial\\distance.py\u001b[0m in \u001b[0;36mcdist\u001b[1;34m(XA, XB, metric, out, **kwargs)\u001b[0m\n\u001b[0;32m   2937\u001b[0m                 XA, XB, metric=metric_info.dist_func, out=out, **kwargs)\n\u001b[0;32m   2938\u001b[0m         \u001b[1;32melse\u001b[0m\u001b[1;33m:\u001b[0m\u001b[1;33m\u001b[0m\u001b[1;33m\u001b[0m\u001b[0m\n\u001b[1;32m-> 2939\u001b[1;33m             \u001b[1;32mraise\u001b[0m \u001b[0mValueError\u001b[0m\u001b[1;33m(\u001b[0m\u001b[1;34m'Unknown Distance Metric: %s'\u001b[0m \u001b[1;33m%\u001b[0m \u001b[0mmstr\u001b[0m\u001b[1;33m)\u001b[0m\u001b[1;33m\u001b[0m\u001b[1;33m\u001b[0m\u001b[0m\n\u001b[0m\u001b[0;32m   2940\u001b[0m     \u001b[1;32melse\u001b[0m\u001b[1;33m:\u001b[0m\u001b[1;33m\u001b[0m\u001b[1;33m\u001b[0m\u001b[0m\n\u001b[0;32m   2941\u001b[0m         raise TypeError('2nd argument metric must be a string identifier '\n",
      "\u001b[1;31mValueError\u001b[0m: Unknown Distance Metric: manhattan"
     ]
    }
   ],
   "source": [
    "distorsions = []\n",
    "for i in [2,3,4,5,6] :\n",
    "    kmeans = KMeans(n_clusters = i)\n",
    "    kmeans.fit(X_scaled)\n",
    "    distorsions.append(sum(np.min(cdist(X_scaled, kmeans.cluster_centers_, 'manhattan'), axis=1)) / np.size(X, axis = 0))\n",
    "\n",
    "plt.plot([2,3,4,5,6], distorsions, 'gx-')\n",
    "plt.xlabel('Nombre de Clusters K')\n",
    "plt.ylabel('Distorsion SSW/(SSW+SSB)')\n",
    "plt.title('Méthode du coude affichant le nombre de clusters optimal')\n",
    "plt.show()\n",
    "\n",
    "dump(kmeans, 'model/knn_non_supervise_manhattan.joblib')"
   ]
  },
  {
   "cell_type": "code",
   "execution_count": 16,
   "id": "29008dbe",
   "metadata": {},
   "outputs": [
    {
     "data": {
      "image/png": "[encoded data removed]",
      "text/plain": [
       "<Figure size 640x480 with 1 Axes>"
      ]
     },
     "metadata": {},
     "output_type": "display_data"
    },
    {
     "data": {
      "text/plain": [
       "['knn_non_spupervise_chebyshev.joblib']"
      ]
     },
     "execution_count": 16,
     "metadata": {},
     "output_type": "execute_result"
    }
   ],
   "source": [
    "distorsions = []\n",
    "for i in [2,3,4,5,6] :\n",
    "    kmeans = KMeans(n_clusters = i)\n",
    "    kmeans.fit(X_scaled)\n",
    "    distorsions.append(sum(np.min(cdist(X_scaled, kmeans.cluster_centers_, 'chebyshev'), axis=1)) / np.size(X, axis = 0))\n",
    "\n",
    "plt.plot([2,3,4,5,6], distorsions, 'gx-')\n",
    "plt.xlabel('Nombre de Clusters K')\n",
    "plt.ylabel('Distorsion SSW/(SSW+SSB)')\n",
    "plt.title('Méthode du coude affichant le nombre de clusters optimal')\n",
    "plt.show()\n",
    "\n",
    "dump(kmeans, 'model/knn_non_supervise_chebyshev.joblib')"
   ]
  },
  {
   "cell_type": "code",
   "execution_count": null,
   "id": "bX2KCMkVM3d1",
   "metadata": {
    "id": "bX2KCMkVM3d1"
   },
   "outputs": [],
   "source": []
  },
  {
   "cell_type": "markdown",
   "id": "65cb98b5",
   "metadata": {
    "id": "FLWV1Z1xKu88"
   },
   "source": [
    "# KNN Best model avec GridSearchCV 4 classes"
   ]
  },
  {
   "cell_type": "code",
   "execution_count": null,
   "id": "bbc4onaojqf8",
   "metadata": {
    "id": "bbc4onaojqf8"
   },
   "outputs": [],
   "source": [
    "param_grid = {'n_neighbors': np.arange(1, 20),\n",
    "              'weights' : ['uniform','distance'],\n",
    "               'metric' : ['minkowski','euclidean','manhattan']}"
   ]
  },
  {
   "cell_type": "code",
   "execution_count": null,
   "id": "Qss_4uBHKPTC",
   "metadata": {
    "id": "Qss_4uBHKPTC"
   },
   "outputs": [],
   "source": [
    "knn = KNeighborsClassifier()\n",
    "grid = GridSearchCV(knn, param_grid, cv=5)\n",
    "grid.fit(X_train_scaled, y_train)\n",
    "print(grid.best_score_)\n",
    "print(grid.best_params_)\n",
    "dump(grid, 'model/knn_bestmodel_4classes.joblib')"
   ]
  },
  {
   "cell_type": "code",
   "execution_count": null,
   "id": "b9ef44da",
   "metadata": {},
   "outputs": [],
   "source": []
  },
  {
   "cell_type": "code",
   "execution_count": 23,
   "id": "fb3229c2",
   "metadata": {},
   "outputs": [
    {
     "name": "stdout",
     "output_type": "stream",
     "text": [
      "{'metric': 'manhattan', 'n_neighbors': 19, 'weights': 'distance'}\n",
      "Accuracy train:  0.9961583101816597\n"
     ]
    },
    {
     "name": "stderr",
     "output_type": "stream",
     "text": [
      "C:\\Users\\juliette.brezillon\\Anaconda3\\lib\\site-packages\\sklearn\\base.py:443: UserWarning: X has feature names, but KNeighborsClassifier was fitted without feature names\n",
      "  warnings.warn(\n"
     ]
    },
    {
     "name": "stdout",
     "output_type": "stream",
     "text": [
      "Accuracy test:  0.40407430164957225\n"
     ]
    }
   ],
   "source": [
    "model= load('model/knn_bestmodel_4classes.joblib')\n",
    "print(model.best_params_)\n",
    "print('Accuracy train: ', model.score(X_train_scaled, y_train))"
   ]
  },
  {
   "cell_type": "code",
   "execution_count": 11,
   "id": "f8730146",
   "metadata": {},
   "outputs": [
    {
     "name": "stdout",
     "output_type": "stream",
     "text": [
      "              precision    recall  f1-score       support\n",
      "1.0            0.676124  0.811846  0.737795  17964.000000\n",
      "2.0            0.277778  0.031934  0.057283   1096.000000\n",
      "3.0            0.474693  0.341833  0.397454   6667.000000\n",
      "4.0            0.601568  0.573642  0.587273  16587.000000\n",
      "accuracy       0.624214  0.624214  0.624214      0.624214\n",
      "macro avg      0.507541  0.439814  0.444951  42314.000000\n",
      "weighted avg   0.604843  0.624214  0.607540  42314.000000\n"
     ]
    }
   ],
   "source": [
    "model= load('model/knn_bestmodel_4classes.joblib')\n",
    "y_pred = model.predict(X_test_scaled)\n",
    "clsf_report = pd.DataFrame(classification_report(y_test, y_pred, output_dict=True)).transpose()\n",
    "\n",
    "clsf_report.to_csv('res/knn_4classes_bestmodel.csv', index= True)\n",
    "print(clsf_report)"
   ]
  },
  {
   "cell_type": "code",
   "execution_count": 8,
   "id": "1705b040",
   "metadata": {},
   "outputs": [
    {
     "name": "stdout",
     "output_type": "stream",
     "text": [
      "              precision    recall  f1-score        support\n",
      "1.0            0.993620  1.000000  0.996800  161670.000000\n",
      "2.0            0.990745  0.997973  0.994346    9869.000000\n",
      "3.0            0.994457  0.995600  0.995028   60002.000000\n",
      "4.0            1.000000  0.992102  0.996035  149281.000000\n",
      "accuracy       0.996158  0.996158  0.996158       0.996158\n",
      "macro avg      0.994706  0.996419  0.995552  380822.000000\n",
      "weighted avg   0.996178  0.996158  0.996158  380822.000000\n"
     ]
    }
   ],
   "source": [
    "# résultat sur train\n",
    "model= load('model/knn_bestmodel_4classes.joblib')\n",
    "y_pred = model.predict(X_train_scaled)\n",
    "clsf_report = pd.DataFrame(classification_report(y_train, y_pred, output_dict=True)).transpose()\n",
    "clsf_report.to_csv('res/knn_4classes_bestmodel_train.csv', index= True)\n",
    "print(clsf_report)"
   ]
  },
  {
   "cell_type": "markdown",
   "id": "7f4acc1b",
   "metadata": {
    "id": "r-QD5lrrKPNk"
   },
   "source": [
    "# KNN Best model avec GridSearchCV 2 classes"
   ]
  },
  {
   "cell_type": "code",
   "execution_count": null,
   "id": "3df2979c",
   "metadata": {},
   "outputs": [],
   "source": [
    "knn = KNeighborsClassifier()\n",
    "grid = GridSearchCV(knn, param_grid, cv=5)\n",
    "grid.fit(X_train_scaled, y_train_bin)\n",
    "\n",
    "print(grid.best_score_)\n",
    "print(grid.best_params_)\n",
    "dump(grid, 'model/knn_bestmodel_2classes.joblib')"
   ]
  },
  {
   "cell_type": "code",
   "execution_count": 24,
   "id": "32c5ca51",
   "metadata": {},
   "outputs": [
    {
     "name": "stdout",
     "output_type": "stream",
     "text": [
      "{'metric': 'manhattan', 'n_neighbors': 19, 'weights': 'distance'}\n",
      "Accuracy train:  0.9971508998954892\n"
     ]
    },
    {
     "name": "stderr",
     "output_type": "stream",
     "text": [
      "C:\\Users\\juliette.brezillon\\Anaconda3\\lib\\site-packages\\sklearn\\base.py:443: UserWarning: X has feature names, but KNeighborsClassifier was fitted without feature names\n",
      "  warnings.warn(\n"
     ]
    },
    {
     "name": "stdout",
     "output_type": "stream",
     "text": [
      "Accuracy test:  0.5570496762300894\n"
     ]
    }
   ],
   "source": [
    "model2 = load(\"model/knn_bestmodel_2classes.joblib\")\n",
    "print(model2.best_params_)\n",
    "\n",
    "print('Accuracy train: ', model2.score(X_train_scaled, y_train_bin))"
   ]
  },
  {
   "cell_type": "code",
   "execution_count": 10,
   "id": "30c95ed5",
   "metadata": {},
   "outputs": [
    {
     "name": "stdout",
     "output_type": "stream",
     "text": [
      "{'metric': 'manhattan', 'n_neighbors': 19, 'weights': 'distance'}\n",
      "Accuracy test:  0.7448362244174505\n"
     ]
    }
   ],
   "source": [
    "model2 = load(\"model/knn_bestmodel_2classes.joblib\")\n",
    "print(model2.best_params_)\n",
    "print('Accuracy test: ', model2.score(X_test_scaled, y_test_bin))"
   ]
  },
  {
   "cell_type": "code",
   "execution_count": 15,
   "id": "e49ae5f3",
   "metadata": {},
   "outputs": [
    {
     "name": "stdout",
     "output_type": "stream",
     "text": [
      "              precision    recall  f1-score       support\n",
      "0.0            0.710565  0.731480  0.720871  19060.000000\n",
      "1.0            0.774468  0.755784  0.765012  23254.000000\n",
      "accuracy       0.744836  0.744836  0.744836      0.744836\n",
      "macro avg      0.742517  0.743632  0.742941  42314.000000\n",
      "weighted avg   0.745683  0.744836  0.745129  42314.000000\n"
     ]
    }
   ],
   "source": [
    "model= load('model/knn_bestmodel_2classes.joblib')\n",
    "y_pred = model.predict(X_test_scaled)\n",
    "clsf_report = pd.DataFrame(classification_report(y_test_bin, y_pred, output_dict=True)).transpose()\n",
    "clsf_report.to_csv('res/knn_2classes_bestmodel.csv', index= True)\n",
    "print(clsf_report)"
   ]
  },
  {
   "cell_type": "code",
   "execution_count": 16,
   "id": "c8763d5e",
   "metadata": {},
   "outputs": [
    {
     "data": {
      "image/png": "[encoded data removed]",
      "text/plain": [
       "<Figure size 640x480 with 2 Axes>"
      ]
     },
     "metadata": {},
     "output_type": "display_data"
    }
   ],
   "source": [
    "import matplotlib.pyplot as plt\n",
    "import numpy\n",
    "from sklearn import metrics\n",
    "\n",
    "confusion_matrix = metrics.confusion_matrix(y_test_bin, y_pred)\n",
    "cm_display = metrics.ConfusionMatrixDisplay(confusion_matrix = confusion_matrix, display_labels = [False, True])\n",
    "cm_display.plot()\n",
    "plt.show() "
   ]
  },
  {
   "cell_type": "code",
   "execution_count": 8,
   "id": "2dd29fcb",
   "metadata": {},
   "outputs": [
    {
     "name": "stdout",
     "output_type": "stream",
     "text": [
      "              precision    recall  f1-score        support\n",
      "0.0            0.993858  0.999854  0.996847  171539.000000\n",
      "1.0            0.999880  0.994935  0.997401  209283.000000\n",
      "accuracy       0.997151  0.997151  0.997151       0.997151\n",
      "macro avg      0.996869  0.997395  0.997124  380822.000000\n",
      "weighted avg   0.997167  0.997151  0.997152  380822.000000\n"
     ]
    }
   ],
   "source": [
    "model= load('model/knn_bestmodel_2classes.joblib')\n",
    "y_pred = model.predict(X_train_scaled)\n",
    "clsf_report = pd.DataFrame(classification_report(y_train_bin, y_pred, output_dict=True)).transpose()\n",
    "clsf_report.to_csv('res/knn_2classes_bestmodel.csv', index= True)\n",
    "print(clsf_report)"
   ]
  },
  {
   "cell_type": "code",
   "execution_count": 9,
   "id": "8cd1010d",
   "metadata": {},
   "outputs": [
    {
     "data": {
      "image/png": "[encoded data removed]",
      "text/plain": [
       "<Figure size 640x480 with 2 Axes>"
      ]
     },
     "metadata": {},
     "output_type": "display_data"
    }
   ],
   "source": [
    "import matplotlib.pyplot as plt\n",
    "import numpy\n",
    "from sklearn import metrics\n",
    "\n",
    "confusion_matrix = metrics.confusion_matrix(y_train_bin, y_pred)\n",
    "cm_display = metrics.ConfusionMatrixDisplay(confusion_matrix = confusion_matrix, display_labels = [False, True])\n",
    "cm_display.plot()\n",
    "plt.show() "
   ]
  },
  {
   "cell_type": "code",
   "execution_count": null,
   "id": "48d909fd",
   "metadata": {},
   "outputs": [],
   "source": []
  }
 ],
 "metadata": {
  "accelerator": "GPU",
  "colab": {
   "gpuType": "T4",
   "provenance": []
  },
  "kernelspec": {
   "display_name": "Python 3 (ipykernel)",
   "language": "python",
   "name": "python3"
  },
  "language_info": {
   "codemirror_mode": {
    "name": "ipython",
    "version": 3
   },
   "file_extension": ".py",
   "mimetype": "text/x-python",
   "name": "python",
   "nbconvert_exporter": "python",
   "pygments_lexer": "ipython3",
   "version": "3.9.13"
  }
 },
 "nbformat": 4,
 "nbformat_minor": 5
}
