{
 "cells": [
  {
   "cell_type": "markdown",
   "id": "q85X72uZp2Te",
   "metadata": {
    "id": "q85X72uZp2Te"
   },
   "source": [
    "# Mount du drive"
   ]
  },
  {
   "cell_type": "code",
   "execution_count": null,
   "id": "51c6960b",
   "metadata": {
    "colab": {
     "base_uri": "https://localhost:8080/"
    },
    "executionInfo": {
     "elapsed": 22516,
     "status": "ok",
     "timestamp": 1683618987683,
     "user": {
      "displayName": "Juliette Brezillon",
      "userId": "07340868198097010212"
     },
     "user_tz": -120
    },
    "id": "51c6960b",
    "outputId": "2a4d9564-b0e9-46fa-a798-beb48ad246f4"
   },
   "outputs": [
    {
     "name": "stdout",
     "output_type": "stream",
     "text": [
      "Mounted at /content/drive/\n"
     ]
    }
   ],
   "source": [
    "# import des librairies nécessaires\n",
    "\n",
    "import pandas as pd\n",
    "import matplotlib.pyplot as plt\n",
    "import numpy as np\n",
    "from scipy.stats import pearsonr\n",
    "import seaborn as sns\n",
    "\n",
    "# Mount du drive où se situe le dataset\n",
    "from google.colab import drive\n",
    "drive.mount('/content/drive/',force_remount=True)\n",
    "\n",
    "# PATH génétrique des fichiers \n",
    "path = \"/content/drive/MyDrive/Accidents route/data/\"\n"
   ]
  },
  {
   "cell_type": "markdown",
   "id": "rRs0i7Khw65N",
   "metadata": {
    "id": "rRs0i7Khw65N"
   },
   "source": [
    "# Import dataset fusionné"
   ]
  },
  {
   "cell_type": "code",
   "execution_count": null,
   "id": "MIu5t1EziF2k",
   "metadata": {
    "colab": {
     "base_uri": "https://localhost:8080/"
    },
    "executionInfo": {
     "elapsed": 6209,
     "status": "ok",
     "timestamp": 1683618998793,
     "user": {
      "displayName": "Juliette Brezillon",
      "userId": "07340868198097010212"
     },
     "user_tz": -120
    },
    "id": "MIu5t1EziF2k",
    "outputId": "a9851282-84c3-441a-a3e3-9891d81e530c"
   },
   "outputs": [
    {
     "name": "stderr",
     "output_type": "stream",
     "text": [
      "<ipython-input-2-d0563984e7c9>:1: DtypeWarning: Columns (4,10,12,13,14,15,17,22,23,27,28,48,52) have mixed types. Specify dtype option on import or set low_memory=False.\n",
      "  df = pd.read_csv(path + 'datasetf.csv', sep ='\\t')\n"
     ]
    },
    {
     "data": {
      "text/plain": [
       "(497594, 57)"
      ]
     },
     "execution_count": 2,
     "metadata": {},
     "output_type": "execute_result"
    }
   ],
   "source": [
    "df = pd.read_csv(path + 'datasetf.csv', sep ='\\t')\n",
    "df.shape"
   ]
  },
  {
   "cell_type": "code",
   "execution_count": null,
   "id": "3BKygE0bzv29",
   "metadata": {
    "colab": {
     "base_uri": "https://localhost:8080/",
     "height": 236
    },
    "executionInfo": {
     "elapsed": 12,
     "status": "ok",
     "timestamp": 1683618998795,
     "user": {
      "displayName": "Juliette Brezillon",
      "userId": "07340868198097010212"
     },
     "user_tz": -120
    },
    "id": "3BKygE0bzv29",
    "outputId": "39327622-99f7-4192-ae94-1157117be64f"
   },
   "outputs": [
    {
     "data": {
      "text/html": [
       "\n",
       "  <div id=\"df-a820f5f8-41e3-406f-9744-b584cd6c0d0e\">\n",
       "    <div class=\"colab-df-container\">\n",
       "      <div>\n",
       "<style scoped>\n",
       "    .dataframe tbody tr th:only-of-type {\n",
       "        vertical-align: middle;\n",
       "    }\n",
       "\n",
       "    .dataframe tbody tr th {\n",
       "        vertical-align: top;\n",
       "    }\n",
       "\n",
       "    .dataframe thead th {\n",
       "        text-align: right;\n",
       "    }\n",
       "</style>\n",
       "<table border=\"1\" class=\"dataframe\">\n",
       "  <thead>\n",
       "    <tr style=\"text-align: right;\">\n",
       "      <th></th>\n",
       "      <th>Num_Acc</th>\n",
       "      <th>an</th>\n",
       "      <th>mois</th>\n",
       "      <th>jour</th>\n",
       "      <th>hrmn</th>\n",
       "      <th>lum</th>\n",
       "      <th>agg</th>\n",
       "      <th>int</th>\n",
       "      <th>atm</th>\n",
       "      <th>col</th>\n",
       "      <th>...</th>\n",
       "      <th>locp</th>\n",
       "      <th>actp</th>\n",
       "      <th>etatp</th>\n",
       "      <th>an_nais</th>\n",
       "      <th>vma</th>\n",
       "      <th>id_vehicule</th>\n",
       "      <th>motor</th>\n",
       "      <th>secu1</th>\n",
       "      <th>secu2</th>\n",
       "      <th>secu3</th>\n",
       "    </tr>\n",
       "  </thead>\n",
       "  <tbody>\n",
       "    <tr>\n",
       "      <th>0</th>\n",
       "      <td>201800000001</td>\n",
       "      <td>18</td>\n",
       "      <td>1</td>\n",
       "      <td>24</td>\n",
       "      <td>1505</td>\n",
       "      <td>1</td>\n",
       "      <td>1</td>\n",
       "      <td>4</td>\n",
       "      <td>1.0</td>\n",
       "      <td>1.0</td>\n",
       "      <td>...</td>\n",
       "      <td>0.0</td>\n",
       "      <td>0.0</td>\n",
       "      <td>0.0</td>\n",
       "      <td>1928.0</td>\n",
       "      <td>NaN</td>\n",
       "      <td>NaN</td>\n",
       "      <td>NaN</td>\n",
       "      <td>NaN</td>\n",
       "      <td>NaN</td>\n",
       "      <td>NaN</td>\n",
       "    </tr>\n",
       "    <tr>\n",
       "      <th>1</th>\n",
       "      <td>201800000001</td>\n",
       "      <td>18</td>\n",
       "      <td>1</td>\n",
       "      <td>24</td>\n",
       "      <td>1505</td>\n",
       "      <td>1</td>\n",
       "      <td>1</td>\n",
       "      <td>4</td>\n",
       "      <td>1.0</td>\n",
       "      <td>1.0</td>\n",
       "      <td>...</td>\n",
       "      <td>0.0</td>\n",
       "      <td>0.0</td>\n",
       "      <td>0.0</td>\n",
       "      <td>1960.0</td>\n",
       "      <td>NaN</td>\n",
       "      <td>NaN</td>\n",
       "      <td>NaN</td>\n",
       "      <td>NaN</td>\n",
       "      <td>NaN</td>\n",
       "      <td>NaN</td>\n",
       "    </tr>\n",
       "    <tr>\n",
       "      <th>2</th>\n",
       "      <td>201800000002</td>\n",
       "      <td>18</td>\n",
       "      <td>2</td>\n",
       "      <td>12</td>\n",
       "      <td>1015</td>\n",
       "      <td>1</td>\n",
       "      <td>2</td>\n",
       "      <td>7</td>\n",
       "      <td>7.0</td>\n",
       "      <td>7.0</td>\n",
       "      <td>...</td>\n",
       "      <td>0.0</td>\n",
       "      <td>0.0</td>\n",
       "      <td>0.0</td>\n",
       "      <td>1947.0</td>\n",
       "      <td>NaN</td>\n",
       "      <td>NaN</td>\n",
       "      <td>NaN</td>\n",
       "      <td>NaN</td>\n",
       "      <td>NaN</td>\n",
       "      <td>NaN</td>\n",
       "    </tr>\n",
       "    <tr>\n",
       "      <th>3</th>\n",
       "      <td>201800000002</td>\n",
       "      <td>18</td>\n",
       "      <td>2</td>\n",
       "      <td>12</td>\n",
       "      <td>1015</td>\n",
       "      <td>1</td>\n",
       "      <td>2</td>\n",
       "      <td>7</td>\n",
       "      <td>7.0</td>\n",
       "      <td>7.0</td>\n",
       "      <td>...</td>\n",
       "      <td>2.0</td>\n",
       "      <td>3.0</td>\n",
       "      <td>1.0</td>\n",
       "      <td>1959.0</td>\n",
       "      <td>NaN</td>\n",
       "      <td>NaN</td>\n",
       "      <td>NaN</td>\n",
       "      <td>NaN</td>\n",
       "      <td>NaN</td>\n",
       "      <td>NaN</td>\n",
       "    </tr>\n",
       "    <tr>\n",
       "      <th>4</th>\n",
       "      <td>201800000003</td>\n",
       "      <td>18</td>\n",
       "      <td>3</td>\n",
       "      <td>4</td>\n",
       "      <td>1135</td>\n",
       "      <td>1</td>\n",
       "      <td>2</td>\n",
       "      <td>3</td>\n",
       "      <td>1.0</td>\n",
       "      <td>7.0</td>\n",
       "      <td>...</td>\n",
       "      <td>0.0</td>\n",
       "      <td>0.0</td>\n",
       "      <td>0.0</td>\n",
       "      <td>1987.0</td>\n",
       "      <td>NaN</td>\n",
       "      <td>NaN</td>\n",
       "      <td>NaN</td>\n",
       "      <td>NaN</td>\n",
       "      <td>NaN</td>\n",
       "      <td>NaN</td>\n",
       "    </tr>\n",
       "  </tbody>\n",
       "</table>\n",
       "<p>5 rows × 57 columns</p>\n",
       "</div>\n",
       "      <button class=\"colab-df-convert\" onclick=\"convertToInteractive('df-a820f5f8-41e3-406f-9744-b584cd6c0d0e')\"\n",
       "              title=\"Convert this dataframe to an interactive table.\"\n",
       "              style=\"display:none;\">\n",
       "        \n",
       "  <svg xmlns=\"http://www.w3.org/2000/svg\" height=\"24px\"viewBox=\"0 0 24 24\"\n",
       "       width=\"24px\">\n",
       "    <path d=\"M0 0h24v24H0V0z\" fill=\"none\"/>\n",
       "    <path d=\"M18.56 5.44l.94 2.06.94-2.06 2.06-.94-2.06-.94-.94-2.06-.94 2.06-2.06.94zm-11 1L8.5 8.5l.94-2.06 2.06-.94-2.06-.94L8.5 2.5l-.94 2.06-2.06.94zm10 10l.94 2.06.94-2.06 2.06-.94-2.06-.94-.94-2.06-.94 2.06-2.06.94z\"/><path d=\"M17.41 7.96l-1.37-1.37c-.4-.4-.92-.59-1.43-.59-.52 0-1.04.2-1.43.59L10.3 9.45l-7.72 7.72c-.78.78-.78 2.05 0 2.83L4 21.41c.39.39.9.59 1.41.59.51 0 1.02-.2 1.41-.59l7.78-7.78 2.81-2.81c.8-.78.8-2.07 0-2.86zM5.41 20L4 18.59l7.72-7.72 1.47 1.35L5.41 20z\"/>\n",
       "  </svg>\n",
       "      </button>\n",
       "      \n",
       "  <style>\n",
       "    .colab-df-container {\n",
       "      display:flex;\n",
       "      flex-wrap:wrap;\n",
       "      gap: 12px;\n",
       "    }\n",
       "\n",
       "    .colab-df-convert {\n",
       "      background-color: #E8F0FE;\n",
       "      border: none;\n",
       "      border-radius: 50%;\n",
       "      cursor: pointer;\n",
       "      display: none;\n",
       "      fill: #1967D2;\n",
       "      height: 32px;\n",
       "      padding: 0 0 0 0;\n",
       "      width: 32px;\n",
       "    }\n",
       "\n",
       "    .colab-df-convert:hover {\n",
       "      background-color: #E2EBFA;\n",
       "      box-shadow: 0px 1px 2px rgba(60, 64, 67, 0.3), 0px 1px 3px 1px rgba(60, 64, 67, 0.15);\n",
       "      fill: #174EA6;\n",
       "    }\n",
       "\n",
       "    [theme=dark] .colab-df-convert {\n",
       "      background-color: #3B4455;\n",
       "      fill: #D2E3FC;\n",
       "    }\n",
       "\n",
       "    [theme=dark] .colab-df-convert:hover {\n",
       "      background-color: #434B5C;\n",
       "      box-shadow: 0px 1px 3px 1px rgba(0, 0, 0, 0.15);\n",
       "      filter: drop-shadow(0px 1px 2px rgba(0, 0, 0, 0.3));\n",
       "      fill: #FFFFFF;\n",
       "    }\n",
       "  </style>\n",
       "\n",
       "      <script>\n",
       "        const buttonEl =\n",
       "          document.querySelector('#df-a820f5f8-41e3-406f-9744-b584cd6c0d0e button.colab-df-convert');\n",
       "        buttonEl.style.display =\n",
       "          google.colab.kernel.accessAllowed ? 'block' : 'none';\n",
       "\n",
       "        async function convertToInteractive(key) {\n",
       "          const element = document.querySelector('#df-a820f5f8-41e3-406f-9744-b584cd6c0d0e');\n",
       "          const dataTable =\n",
       "            await google.colab.kernel.invokeFunction('convertToInteractive',\n",
       "                                                     [key], {});\n",
       "          if (!dataTable) return;\n",
       "\n",
       "          const docLinkHtml = 'Like what you see? Visit the ' +\n",
       "            '<a target=\"_blank\" href=https://colab.research.google.com/notebooks/data_table.ipynb>data table notebook</a>'\n",
       "            + ' to learn more about interactive tables.';\n",
       "          element.innerHTML = '';\n",
       "          dataTable['output_type'] = 'display_data';\n",
       "          await google.colab.output.renderOutput(dataTable, element);\n",
       "          const docLink = document.createElement('div');\n",
       "          docLink.innerHTML = docLinkHtml;\n",
       "          element.appendChild(docLink);\n",
       "        }\n",
       "      </script>\n",
       "    </div>\n",
       "  </div>\n",
       "  "
      ],
      "text/plain": [
       "        Num_Acc  an  mois  jour  hrmn  lum  agg  int  atm  col  ... locp actp  \\\n",
       "0  201800000001  18     1    24  1505    1    1    4  1.0  1.0  ...  0.0  0.0   \n",
       "1  201800000001  18     1    24  1505    1    1    4  1.0  1.0  ...  0.0  0.0   \n",
       "2  201800000002  18     2    12  1015    1    2    7  7.0  7.0  ...  0.0  0.0   \n",
       "3  201800000002  18     2    12  1015    1    2    7  7.0  7.0  ...  2.0  3.0   \n",
       "4  201800000003  18     3     4  1135    1    2    3  1.0  7.0  ...  0.0  0.0   \n",
       "\n",
       "  etatp an_nais vma id_vehicule  motor secu1  secu2 secu3  \n",
       "0   0.0  1928.0 NaN         NaN    NaN   NaN    NaN   NaN  \n",
       "1   0.0  1960.0 NaN         NaN    NaN   NaN    NaN   NaN  \n",
       "2   0.0  1947.0 NaN         NaN    NaN   NaN    NaN   NaN  \n",
       "3   1.0  1959.0 NaN         NaN    NaN   NaN    NaN   NaN  \n",
       "4   0.0  1987.0 NaN         NaN    NaN   NaN    NaN   NaN  \n",
       "\n",
       "[5 rows x 57 columns]"
      ]
     },
     "execution_count": 3,
     "metadata": {},
     "output_type": "execute_result"
    }
   ],
   "source": [
    "df.head()"
   ]
  },
  {
   "cell_type": "markdown",
   "id": "vU7DL43REBW3",
   "metadata": {
    "id": "vU7DL43REBW3"
   },
   "source": [
    "# Analyse des données USAGERS"
   ]
  },
  {
   "cell_type": "code",
   "execution_count": null,
   "id": "3LHDMlwqEP8w",
   "metadata": {
    "colab": {
     "base_uri": "https://localhost:8080/"
    },
    "executionInfo": {
     "elapsed": 5,
     "status": "ok",
     "timestamp": 1683619000395,
     "user": {
      "displayName": "Juliette Brezillon",
      "userId": "07340868198097010212"
     },
     "user_tz": -120
    },
    "id": "3LHDMlwqEP8w",
    "outputId": "be84d936-a9fb-45f1-8b4c-a50ef3e35b8b"
   },
   "outputs": [
    {
     "data": {
      "text/plain": [
       "(497594, 16)"
      ]
     },
     "execution_count": 4,
     "metadata": {},
     "output_type": "execute_result"
    }
   ],
   "source": [
    "df_usagers = df[['Num_Acc','num_veh','an_nais','place','catu','sexe','trajet','secu','secu1','secu2','secu3','locp','actp','etatp', 'grav', 'id_vehicule'\n",
    "]].copy()   # je travaille sur une copie non liée au df original\n",
    "df_usagers.shape"
   ]
  },
  {
   "cell_type": "code",
   "execution_count": null,
   "id": "0QFtInj8FYeQ",
   "metadata": {
    "colab": {
     "base_uri": "https://localhost:8080/",
     "height": 206
    },
    "executionInfo": {
     "elapsed": 7,
     "status": "ok",
     "timestamp": 1683619002204,
     "user": {
      "displayName": "Juliette Brezillon",
      "userId": "07340868198097010212"
     },
     "user_tz": -120
    },
    "id": "0QFtInj8FYeQ",
    "outputId": "8a3fb094-73b6-4e68-870f-570d23d683a6"
   },
   "outputs": [
    {
     "data": {
      "text/html": [
       "\n",
       "  <div id=\"df-1ea37339-023f-49ff-8f63-ec9737925a52\">\n",
       "    <div class=\"colab-df-container\">\n",
       "      <div>\n",
       "<style scoped>\n",
       "    .dataframe tbody tr th:only-of-type {\n",
       "        vertical-align: middle;\n",
       "    }\n",
       "\n",
       "    .dataframe tbody tr th {\n",
       "        vertical-align: top;\n",
       "    }\n",
       "\n",
       "    .dataframe thead th {\n",
       "        text-align: right;\n",
       "    }\n",
       "</style>\n",
       "<table border=\"1\" class=\"dataframe\">\n",
       "  <thead>\n",
       "    <tr style=\"text-align: right;\">\n",
       "      <th></th>\n",
       "      <th>Num_Acc</th>\n",
       "      <th>num_veh</th>\n",
       "      <th>an_nais</th>\n",
       "      <th>place</th>\n",
       "      <th>catu</th>\n",
       "      <th>sexe</th>\n",
       "      <th>trajet</th>\n",
       "      <th>secu</th>\n",
       "      <th>secu1</th>\n",
       "      <th>secu2</th>\n",
       "      <th>secu3</th>\n",
       "      <th>locp</th>\n",
       "      <th>actp</th>\n",
       "      <th>etatp</th>\n",
       "      <th>grav</th>\n",
       "      <th>id_vehicule</th>\n",
       "    </tr>\n",
       "  </thead>\n",
       "  <tbody>\n",
       "    <tr>\n",
       "      <th>0</th>\n",
       "      <td>201800000001</td>\n",
       "      <td>B01</td>\n",
       "      <td>1928.0</td>\n",
       "      <td>1.0</td>\n",
       "      <td>1</td>\n",
       "      <td>1</td>\n",
       "      <td>0.0</td>\n",
       "      <td>11.0</td>\n",
       "      <td>NaN</td>\n",
       "      <td>NaN</td>\n",
       "      <td>NaN</td>\n",
       "      <td>0.0</td>\n",
       "      <td>0.0</td>\n",
       "      <td>0.0</td>\n",
       "      <td>3</td>\n",
       "      <td>NaN</td>\n",
       "    </tr>\n",
       "    <tr>\n",
       "      <th>1</th>\n",
       "      <td>201800000001</td>\n",
       "      <td>A01</td>\n",
       "      <td>1960.0</td>\n",
       "      <td>1.0</td>\n",
       "      <td>1</td>\n",
       "      <td>1</td>\n",
       "      <td>5.0</td>\n",
       "      <td>11.0</td>\n",
       "      <td>NaN</td>\n",
       "      <td>NaN</td>\n",
       "      <td>NaN</td>\n",
       "      <td>0.0</td>\n",
       "      <td>0.0</td>\n",
       "      <td>0.0</td>\n",
       "      <td>1</td>\n",
       "      <td>NaN</td>\n",
       "    </tr>\n",
       "    <tr>\n",
       "      <th>2</th>\n",
       "      <td>201800000002</td>\n",
       "      <td>A01</td>\n",
       "      <td>1947.0</td>\n",
       "      <td>1.0</td>\n",
       "      <td>1</td>\n",
       "      <td>1</td>\n",
       "      <td>0.0</td>\n",
       "      <td>11.0</td>\n",
       "      <td>NaN</td>\n",
       "      <td>NaN</td>\n",
       "      <td>NaN</td>\n",
       "      <td>0.0</td>\n",
       "      <td>0.0</td>\n",
       "      <td>0.0</td>\n",
       "      <td>1</td>\n",
       "      <td>NaN</td>\n",
       "    </tr>\n",
       "    <tr>\n",
       "      <th>3</th>\n",
       "      <td>201800000002</td>\n",
       "      <td>A01</td>\n",
       "      <td>1959.0</td>\n",
       "      <td>NaN</td>\n",
       "      <td>3</td>\n",
       "      <td>1</td>\n",
       "      <td>0.0</td>\n",
       "      <td>2.0</td>\n",
       "      <td>NaN</td>\n",
       "      <td>NaN</td>\n",
       "      <td>NaN</td>\n",
       "      <td>2.0</td>\n",
       "      <td>3.0</td>\n",
       "      <td>1.0</td>\n",
       "      <td>4</td>\n",
       "      <td>NaN</td>\n",
       "    </tr>\n",
       "    <tr>\n",
       "      <th>4</th>\n",
       "      <td>201800000003</td>\n",
       "      <td>A01</td>\n",
       "      <td>1987.0</td>\n",
       "      <td>1.0</td>\n",
       "      <td>1</td>\n",
       "      <td>1</td>\n",
       "      <td>5.0</td>\n",
       "      <td>21.0</td>\n",
       "      <td>NaN</td>\n",
       "      <td>NaN</td>\n",
       "      <td>NaN</td>\n",
       "      <td>0.0</td>\n",
       "      <td>0.0</td>\n",
       "      <td>0.0</td>\n",
       "      <td>3</td>\n",
       "      <td>NaN</td>\n",
       "    </tr>\n",
       "  </tbody>\n",
       "</table>\n",
       "</div>\n",
       "      <button class=\"colab-df-convert\" onclick=\"convertToInteractive('df-1ea37339-023f-49ff-8f63-ec9737925a52')\"\n",
       "              title=\"Convert this dataframe to an interactive table.\"\n",
       "              style=\"display:none;\">\n",
       "        \n",
       "  <svg xmlns=\"http://www.w3.org/2000/svg\" height=\"24px\"viewBox=\"0 0 24 24\"\n",
       "       width=\"24px\">\n",
       "    <path d=\"M0 0h24v24H0V0z\" fill=\"none\"/>\n",
       "    <path d=\"M18.56 5.44l.94 2.06.94-2.06 2.06-.94-2.06-.94-.94-2.06-.94 2.06-2.06.94zm-11 1L8.5 8.5l.94-2.06 2.06-.94-2.06-.94L8.5 2.5l-.94 2.06-2.06.94zm10 10l.94 2.06.94-2.06 2.06-.94-2.06-.94-.94-2.06-.94 2.06-2.06.94z\"/><path d=\"M17.41 7.96l-1.37-1.37c-.4-.4-.92-.59-1.43-.59-.52 0-1.04.2-1.43.59L10.3 9.45l-7.72 7.72c-.78.78-.78 2.05 0 2.83L4 21.41c.39.39.9.59 1.41.59.51 0 1.02-.2 1.41-.59l7.78-7.78 2.81-2.81c.8-.78.8-2.07 0-2.86zM5.41 20L4 18.59l7.72-7.72 1.47 1.35L5.41 20z\"/>\n",
       "  </svg>\n",
       "      </button>\n",
       "      \n",
       "  <style>\n",
       "    .colab-df-container {\n",
       "      display:flex;\n",
       "      flex-wrap:wrap;\n",
       "      gap: 12px;\n",
       "    }\n",
       "\n",
       "    .colab-df-convert {\n",
       "      background-color: #E8F0FE;\n",
       "      border: none;\n",
       "      border-radius: 50%;\n",
       "      cursor: pointer;\n",
       "      display: none;\n",
       "      fill: #1967D2;\n",
       "      height: 32px;\n",
       "      padding: 0 0 0 0;\n",
       "      width: 32px;\n",
       "    }\n",
       "\n",
       "    .colab-df-convert:hover {\n",
       "      background-color: #E2EBFA;\n",
       "      box-shadow: 0px 1px 2px rgba(60, 64, 67, 0.3), 0px 1px 3px 1px rgba(60, 64, 67, 0.15);\n",
       "      fill: #174EA6;\n",
       "    }\n",
       "\n",
       "    [theme=dark] .colab-df-convert {\n",
       "      background-color: #3B4455;\n",
       "      fill: #D2E3FC;\n",
       "    }\n",
       "\n",
       "    [theme=dark] .colab-df-convert:hover {\n",
       "      background-color: #434B5C;\n",
       "      box-shadow: 0px 1px 3px 1px rgba(0, 0, 0, 0.15);\n",
       "      filter: drop-shadow(0px 1px 2px rgba(0, 0, 0, 0.3));\n",
       "      fill: #FFFFFF;\n",
       "    }\n",
       "  </style>\n",
       "\n",
       "      <script>\n",
       "        const buttonEl =\n",
       "          document.querySelector('#df-1ea37339-023f-49ff-8f63-ec9737925a52 button.colab-df-convert');\n",
       "        buttonEl.style.display =\n",
       "          google.colab.kernel.accessAllowed ? 'block' : 'none';\n",
       "\n",
       "        async function convertToInteractive(key) {\n",
       "          const element = document.querySelector('#df-1ea37339-023f-49ff-8f63-ec9737925a52');\n",
       "          const dataTable =\n",
       "            await google.colab.kernel.invokeFunction('convertToInteractive',\n",
       "                                                     [key], {});\n",
       "          if (!dataTable) return;\n",
       "\n",
       "          const docLinkHtml = 'Like what you see? Visit the ' +\n",
       "            '<a target=\"_blank\" href=https://colab.research.google.com/notebooks/data_table.ipynb>data table notebook</a>'\n",
       "            + ' to learn more about interactive tables.';\n",
       "          element.innerHTML = '';\n",
       "          dataTable['output_type'] = 'display_data';\n",
       "          await google.colab.output.renderOutput(dataTable, element);\n",
       "          const docLink = document.createElement('div');\n",
       "          docLink.innerHTML = docLinkHtml;\n",
       "          element.appendChild(docLink);\n",
       "        }\n",
       "      </script>\n",
       "    </div>\n",
       "  </div>\n",
       "  "
      ],
      "text/plain": [
       "        Num_Acc num_veh  an_nais  place  catu  sexe  trajet  secu  secu1  \\\n",
       "0  201800000001     B01   1928.0    1.0     1     1     0.0  11.0    NaN   \n",
       "1  201800000001     A01   1960.0    1.0     1     1     5.0  11.0    NaN   \n",
       "2  201800000002     A01   1947.0    1.0     1     1     0.0  11.0    NaN   \n",
       "3  201800000002     A01   1959.0    NaN     3     1     0.0   2.0    NaN   \n",
       "4  201800000003     A01   1987.0    1.0     1     1     5.0  21.0    NaN   \n",
       "\n",
       "   secu2  secu3  locp actp  etatp  grav id_vehicule  \n",
       "0    NaN    NaN   0.0  0.0    0.0     3         NaN  \n",
       "1    NaN    NaN   0.0  0.0    0.0     1         NaN  \n",
       "2    NaN    NaN   0.0  0.0    0.0     1         NaN  \n",
       "3    NaN    NaN   2.0  3.0    1.0     4         NaN  \n",
       "4    NaN    NaN   0.0  0.0    0.0     3         NaN  "
      ]
     },
     "execution_count": 5,
     "metadata": {},
     "output_type": "execute_result"
    }
   ],
   "source": [
    "df_usagers.head()"
   ]
  },
  {
   "cell_type": "markdown",
   "id": "xco0bitDh-91",
   "metadata": {
    "id": "xco0bitDh-91"
   },
   "source": [
    "\n",
    "Le dataset comporte 16 colonnes au total \n",
    "\n",
    "A noter qu'il y a eu un changement dans la structure des données pour la variable secu à partir de 2019 : de secu a secu1/secu2/secu3"
   ]
  },
  {
   "cell_type": "markdown",
   "id": "TP9uTogv0eol",
   "metadata": {
    "id": "TP9uTogv0eol"
   },
   "source": [
    "# Description des variables\n",
    "\n",
    "grav : 1 Indemne / 2 Tué/ 3 Blessé hospitalisé /4 – Blessé léger \n",
    "\n",
    "num_acc : numérique\n",
    "\n",
    "id_vehicule : numérique\n",
    "\n",
    "num_vehicule : numérique\n",
    "\n",
    "an_naiss : numérique\n",
    "\n",
    "place : 1 conducteur / 2 avant droite / 3 arrière droit / 4 arrière gauche / 5 arrière milieu / 6 devant milieu / 7 milieu gauche / 8 milieu milieu / 9 milieu droit / 10 piéton\n",
    "\n",
    "catu : 1 conducteur / 2 passager / 3 piéton\n",
    "\n",
    "sexe : 1 masculin / 2 Féminin\n",
    "\n",
    "trajet : -1 et 0 Non renseigné / 1 Domicile – travail / 2 Domicile – école\n",
    "3 Courses – achats / 4 Utilisation professionnelle / 5 Promenade – loisirs / 9 Autre\n",
    "\n",
    "secu1/secu2/secu3 : -1 – Non renseigné /\n",
    "0 – Aucun équipement /\n",
    "1 – Ceinture /\n",
    "2 – Casque / \n",
    "3 – Dispositif enfants /\n",
    "4 – Gilet réfléchissant /\n",
    "5 – Airbag (2RM/3RM) /\n",
    "6 – Gants (2RM/3RM) /\n",
    "7 – Gants + Airbag (2RM/3RM) /\n",
    "8 – Non déterminable /\n",
    "9 – Autre \n",
    "\n",
    "locp : -1 – Non renseigné /\n",
    "0 – Sans objet /\n",
    "Sur chaussée :\n",
    "1 – A + 50 m du passage piéton /\n",
    "2 – A – 50 m du passage piéton /\n",
    "Sur passage piéton :\n",
    "3 – Sans signalisation lumineuse /\n",
    "4 – Avec signalisation lumineuse /\n",
    "Divers :\n",
    "5 – Sur trottoir /\n",
    "6 – Sur accotement /\n",
    "7 – Sur refuge ou BAU /\n",
    "8 – Sur contre allée /\n",
    "9 – Inconnue \n",
    "\n",
    "actp : \n",
    "-1 – Non renseigné /\n",
    "Se déplaçant\n",
    "0 – Non renseigné ou sans objet /\n",
    "1 – Sens véhicule heurtant /\n",
    "2 – Sens inverse du véhicule /\n",
    "Divers\n",
    "3 – Traversant /\n",
    "4 – Masqué /\n",
    "5 – Jouant – courant /\n",
    "6 – Avec animal /\n",
    "9 – Autre /\n",
    "A – Monte/descend du véhicule /\n",
    "B – Inconnue\n",
    "\n",
    "etatp : -1 – Non renseigné / 1 – Seul / 2 – Accompagné / 3 – En groupe"
   ]
  },
  {
   "cell_type": "markdown",
   "id": "tPF8rl0AmD7m",
   "metadata": {
    "id": "tPF8rl0AmD7m"
   },
   "source": [
    "# Analyse variable \"grav\" : variable cible"
   ]
  },
  {
   "cell_type": "markdown",
   "id": "CvP41pGQUHBl",
   "metadata": {
    "id": "CvP41pGQUHBl"
   },
   "source": [
    "*Type de la variable :* grav est la variable cible du dataset"
   ]
  },
  {
   "cell_type": "markdown",
   "id": "IjRhO4E2rqs9",
   "metadata": {
    "id": "IjRhO4E2rqs9"
   },
   "source": [
    "*Description de la variable :* grav représente la gravité de blessure de l'usager."
   ]
  },
  {
   "cell_type": "markdown",
   "id": "j003FFtPjt87",
   "metadata": {
    "id": "j003FFtPjt87"
   },
   "source": [
    "*Disponibilité de la variable : Pouvez vous connaitre ce champ en amont d'une prédiction ? Aurez vous accès à cette variable en environnement de production ?*\n",
    "Variable non disponible en prédiction\n"
   ]
  },
  {
   "cell_type": "markdown",
   "id": "BvfnGdtnmKhd",
   "metadata": {
    "id": "BvfnGdtnmKhd"
   },
   "source": [
    "*Type informatique de la variable :* variable catégorielle mais encodée numériquement comme suit :\n",
    "\n",
    "1 – Indemne\n",
    "\n",
    "2 – Tué\n",
    "\n",
    "3 – Blessé hospitalisé\n",
    "\n",
    "4 – Blessé léger \n",
    "\n",
    "=> Elle est de type informatique numérique"
   ]
  },
  {
   "cell_type": "code",
   "execution_count": null,
   "id": "KRUZ7NG8mHpb",
   "metadata": {
    "colab": {
     "base_uri": "https://localhost:8080/"
    },
    "executionInfo": {
     "elapsed": 220,
     "status": "ok",
     "timestamp": 1683292991040,
     "user": {
      "displayName": "Juliette Brezillon",
      "userId": "07340868198097010212"
     },
     "user_tz": -120
    },
    "id": "KRUZ7NG8mHpb",
    "outputId": "a3c4fd2d-1956-4753-e7f1-7e5c5e6f8681"
   },
   "outputs": [
    {
     "data": {
      "text/plain": [
       "dtype('int64')"
      ]
     },
     "execution_count": 11,
     "metadata": {},
     "output_type": "execute_result"
    }
   ],
   "source": [
    "target = df_usagers['grav']\n",
    "target.dtypes"
   ]
  },
  {
   "cell_type": "markdown",
   "id": "E6HwFFyZrwIL",
   "metadata": {
    "id": "E6HwFFyZrwIL"
   },
   "source": [
    "*Taux de Na :*"
   ]
  },
  {
   "cell_type": "code",
   "execution_count": null,
   "id": "odbKLbrIsTMa",
   "metadata": {
    "colab": {
     "base_uri": "https://localhost:8080/"
    },
    "executionInfo": {
     "elapsed": 354,
     "status": "ok",
     "timestamp": 1683292994174,
     "user": {
      "displayName": "Juliette Brezillon",
      "userId": "07340868198097010212"
     },
     "user_tz": -120
    },
    "id": "odbKLbrIsTMa",
    "outputId": "d5d13d9e-f33a-46a4-c681-b167431d6cf3"
   },
   "outputs": [
    {
     "data": {
      "text/plain": [
       "0"
      ]
     },
     "execution_count": 12,
     "metadata": {},
     "output_type": "execute_result"
    }
   ],
   "source": [
    "target.isna().sum()"
   ]
  },
  {
   "cell_type": "code",
   "execution_count": null,
   "id": "yRi7X6l-8Cdv",
   "metadata": {
    "colab": {
     "base_uri": "https://localhost:8080/"
    },
    "executionInfo": {
     "elapsed": 6,
     "status": "ok",
     "timestamp": 1683292995949,
     "user": {
      "displayName": "Juliette Brezillon",
      "userId": "07340868198097010212"
     },
     "user_tz": -120
    },
    "id": "yRi7X6l-8Cdv",
    "outputId": "334133a2-6a06-48cf-b261-1eb66faba65e"
   },
   "outputs": [
    {
     "data": {
      "text/plain": [
       " 1    207937\n",
       " 4    197821\n",
       " 3     78887\n",
       " 2     12889\n",
       "-1        60\n",
       "Name: grav, dtype: int64"
      ]
     },
     "execution_count": 13,
     "metadata": {},
     "output_type": "execute_result"
    }
   ],
   "source": [
    "target.value_counts()"
   ]
  },
  {
   "cell_type": "markdown",
   "id": "ysQGfHL9rrID",
   "metadata": {
    "id": "ysQGfHL9rrID"
   },
   "source": [
    "La variable ne contient aucun NA.\n",
    "Mais elle contient des valeurs -1 qui ne correspondent à aucune valeur de la documentation. Il faut donc les considérer comme des Nan.\n",
    "\n",
    "Pour plus de facilité après, les valeurs -1 sont remplacées par des Nan"
   ]
  },
  {
   "cell_type": "code",
   "execution_count": null,
   "id": "I8sTH9766Dp5",
   "metadata": {
    "colab": {
     "base_uri": "https://localhost:8080/"
    },
    "executionInfo": {
     "elapsed": 4,
     "status": "ok",
     "timestamp": 1683292999786,
     "user": {
      "displayName": "Juliette Brezillon",
      "userId": "07340868198097010212"
     },
     "user_tz": -120
    },
    "id": "I8sTH9766Dp5",
    "outputId": "820fa704-5771-45b9-c3a6-9da94e691145"
   },
   "outputs": [
    {
     "data": {
      "text/plain": [
       "1.0    207937\n",
       "4.0    197821\n",
       "3.0     78887\n",
       "2.0     12889\n",
       "NaN        60\n",
       "Name: grav, dtype: int64"
      ]
     },
     "execution_count": 14,
     "metadata": {},
     "output_type": "execute_result"
    }
   ],
   "source": [
    "target=target.replace(-1, np.nan)\n",
    "target.value_counts(dropna=False)"
   ]
  },
  {
   "cell_type": "markdown",
   "id": "qPwhMVmyrrME",
   "metadata": {
    "id": "qPwhMVmyrrME"
   },
   "source": [
    "*Distribution de la valeur :* catégorielle\n",
    "\n",
    "4 valeurs possibles + valeur Nan\n",
    " \n"
   ]
  },
  {
   "cell_type": "markdown",
   "id": "VAUUwqv1rrPq",
   "metadata": {
    "id": "VAUUwqv1rrPq"
   },
   "source": [
    "*Relation entre la valeur :*\n",
    "\n",
    "pas de notion d'ordre telle que défini dans la documentation car tué quie st le plus grave a le n°2\n"
   ]
  },
  {
   "cell_type": "markdown",
   "id": "6HDowQkN9U9l",
   "metadata": {
    "id": "6HDowQkN9U9l"
   },
   "source": [
    "*Equilibre :*\n",
    "\n",
    "Variable déséquilibrée car 80% des valeurs sont 1 ou 2\n"
   ]
  },
  {
   "cell_type": "code",
   "execution_count": null,
   "id": "MUWih1Db9oRn",
   "metadata": {
    "colab": {
     "base_uri": "https://localhost:8080/",
     "height": 460
    },
    "executionInfo": {
     "elapsed": 832,
     "status": "ok",
     "timestamp": 1683293004024,
     "user": {
      "displayName": "Juliette Brezillon",
      "userId": "07340868198097010212"
     },
     "user_tz": -120
    },
    "id": "MUWih1Db9oRn",
    "outputId": "4fd0c1c2-f0e8-4d21-825b-21608e0f6fe3"
   },
   "outputs": [
    {
     "data": {
      "text/plain": [
       "<Axes: >"
      ]
     },
     "execution_count": 15,
     "metadata": {},
     "output_type": "execute_result"
    },
    {
     "data": {
      "image/png": "[encoded data removed]",
      "text/plain": [
       "<Figure size 640x480 with 1 Axes>"
      ]
     },
     "metadata": {},
     "output_type": "display_data"
    }
   ],
   "source": [
    "target.value_counts(dropna=False, normalize=True).plot(kind='bar')"
   ]
  },
  {
   "cell_type": "markdown",
   "id": "hSuLsDPTrrTT",
   "metadata": {
    "id": "hSuLsDPTrrTT"
   },
   "source": [
    "*Regroupement de valeurs : \n",
    "Pensez vous modifier ou regrouper ou découper les valeurs ? si oui détaillez votre démarche*\n",
    "\n",
    "Non pour le moment non"
   ]
  },
  {
   "cell_type": "markdown",
   "id": "6por9LEu-ZGS",
   "metadata": {
    "id": "6por9LEu-ZGS"
   },
   "source": [
    "*Pertinence métier \n",
    "Selon vous, ou l'avis d'experts que vous avez consulté, la variable vous semble-t-elle pertinente pour expliquer la variable cible. Si oui, détaillez pourquoi.*\n",
    "\n",
    "\n",
    "variable cible"
   ]
  },
  {
   "cell_type": "markdown",
   "id": "OeJ6_r2K-sJT",
   "metadata": {
    "id": "OeJ6_r2K-sJT"
   },
   "source": [
    "*Fiabilité méthode acquisition : Connaissez vous la façon dont a été acquise la données. Avez vous confiance dans les champs renseingés ? Si non, détaillez pourquoi*\n",
    "\n",
    "\n",
    "à compléter\n",
    "\n"
   ]
  },
  {
   "cell_type": "markdown",
   "id": "JUxc-bP8-9Bb",
   "metadata": {
    "id": "JUxc-bP8-9Bb"
   },
   "source": [
    "*Dépendance avec d'autres variables*\n",
    "\n",
    "cf en dessous"
   ]
  },
  {
   "cell_type": "markdown",
   "id": "NHAo4z3Fo-HP",
   "metadata": {
    "id": "NHAo4z3Fo-HP"
   },
   "source": [
    "# Analyse des variables descriptives"
   ]
  },
  {
   "cell_type": "markdown",
   "id": "pKUIvlJrexTJ",
   "metadata": {
    "id": "pKUIvlJrexTJ"
   },
   "source": [
    "## Type des variables"
   ]
  },
  {
   "cell_type": "markdown",
   "id": "VfQO7pJW_xEN",
   "metadata": {
    "id": "VfQO7pJW_xEN"
   },
   "source": [
    "Toutes les autres variables sont des variables explicatives"
   ]
  },
  {
   "cell_type": "markdown",
   "id": "lOcyROQAe25s",
   "metadata": {
    "id": "lOcyROQAe25s"
   },
   "source": [
    "## Description des variables"
   ]
  },
  {
   "cell_type": "markdown",
   "id": "N_csWWi8A0f5",
   "metadata": {
    "id": "N_csWWi8A0f5"
   },
   "source": [
    "ref : https://static.data.gouv.fr/resources/bases-de-donnees-annuelles-des-accidents-corporels-de-la-circulation-routiere-annees-de-2005-a-2021/20221104-163105/description-des-bases-de-donnees-annuelles-2021.pdf\n",
    "\n",
    "**Rubrique USAGERS**\n",
    "\n",
    "**Num_Acc** : Identifiant de l’accident identique à celui du fichier \"rubrique CARACTERISTIQUES\" repris pour chacun des usagers décrits impliqués dans l’accident.\n",
    "\n",
    "**id_vehicule** : Identifiant unique du véhicule repris pour chacun des usagers occupant ce véhicule (y compris les piétons qui sont rattachés aux véhicules qui les ont heurtés)\n",
    "\n",
    "**num_Veh** : Identifiant du véhicule repris pour chacun des usagers occupant ce véhicule (y compris les piétons qui sont rattachés aux véhicules qui les ont heurtés) \n",
    "\n",
    "**place** : Permet de situer la place occupée dans le véhicule par l'usager au moment de l'accident. \n",
    "\n",
    "**catu** : Catégorie d'usager.\n",
    "\n",
    "**sexe** : sexe de l'usager.\n",
    "\n",
    "**An_nais** : Année de naissance de l'usager.\n",
    "\n",
    "**trajet** : Motif du déplacement au moment de l’accident \n",
    "\n",
    "---\n",
    "Attention : Les équipements de sécurité jusqu’en 2018 étaient en 2 variables : existence et utilisation (type binaire oui /non). \n",
    "\n",
    "A partir de 2019, il s’agit de l’utilisation avec jusqu’à 3 équipements possibles pour un même usager (notamment pour les motocyclistes dont le port du casque et des gants est obligatoire).\n",
    "\n",
    "---\n",
    "**secu ou secu1/secu2/secu3** : 3 équipements\n",
    "\n",
    "**locp** : Localisation du piéton\n",
    "\n",
    "**actp** : Action du piéton\n",
    "\n",
    "**etatp** : Cette variable permet de préciser si le piéton accidenté était seul ou non"
   ]
  },
  {
   "cell_type": "markdown",
   "id": "JnYoXdA-e9Lh",
   "metadata": {
    "id": "JnYoXdA-e9Lh"
   },
   "source": [
    "## Disponibilité des variables"
   ]
  },
  {
   "cell_type": "markdown",
   "id": "3efGWRp4_xM4",
   "metadata": {
    "id": "3efGWRp4_xM4"
   },
   "source": [
    "*Pouvez vous connaitre ce champ en amont d'une prédiction ? Aurez vous accès à cette variable en environnement de production ?*\n",
    "\n",
    "Variables disponible en production"
   ]
  },
  {
   "cell_type": "markdown",
   "id": "rLUVyrMz_xQN",
   "metadata": {
    "id": "rLUVyrMz_xQN"
   },
   "source": [
    "## Type informatique des variables"
   ]
  },
  {
   "cell_type": "code",
   "execution_count": null,
   "id": "L9L5TL8HABwK",
   "metadata": {
    "colab": {
     "base_uri": "https://localhost:8080/"
    },
    "executionInfo": {
     "elapsed": 426,
     "status": "ok",
     "timestamp": 1683621604359,
     "user": {
      "displayName": "Juliette Brezillon",
      "userId": "07340868198097010212"
     },
     "user_tz": -120
    },
    "id": "L9L5TL8HABwK",
    "outputId": "a26f9541-b941-441a-fd99-345f7d70faf7"
   },
   "outputs": [
    {
     "name": "stdout",
     "output_type": "stream",
     "text": [
      "Type de la variable  Num_Acc    int64\n",
      "Type de la variable  num_veh    object\n",
      "Type de la variable  an_nais    float64\n",
      "Type de la variable  place    float64\n",
      "Type de la variable  catu    int64\n",
      "Type de la variable  sexe    int64\n",
      "Type de la variable  trajet    float64\n",
      "Type de la variable  secu    float64\n",
      "Type de la variable  secu1    float64\n",
      "Type de la variable  secu2    float64\n",
      "Type de la variable  secu3    float64\n",
      "Type de la variable  locp    float64\n",
      "Type de la variable  actp    object\n",
      "Type de la variable  etatp    float64\n",
      "Type de la variable  grav    int64\n",
      "Type de la variable  id_vehicule    object\n"
     ]
    }
   ],
   "source": [
    "for i in df_usagers :\n",
    "  print(\"Type de la variable \", i,  \"  \", df_usagers[i].dtypes)"
   ]
  },
  {
   "cell_type": "markdown",
   "id": "vV346v8DfMM7",
   "metadata": {
    "id": "vV346v8DfMM7"
   },
   "source": [
    "Il y a 3 variables de type object (qualitatives)\n",
    "Les autres variables sont des variables de type int (quantitatives)\n",
    "\n",
    "Mais en réalité seule la variable num_acc est une variable quantitative, les autres variables numérique ssont des variables catégorielles encodées avec des chiffres"
   ]
  },
  {
   "cell_type": "markdown",
   "id": "TJyKOFryf_mZ",
   "metadata": {
    "id": "TJyKOFryf_mZ"
   },
   "source": [
    "## Identification des Nan et vérification des valeurs des variables"
   ]
  },
  {
   "cell_type": "code",
   "execution_count": null,
   "id": "QpyC5R2OAr3r",
   "metadata": {
    "colab": {
     "base_uri": "https://localhost:8080/"
    },
    "executionInfo": {
     "elapsed": 252,
     "status": "ok",
     "timestamp": 1683293089250,
     "user": {
      "displayName": "Juliette Brezillon",
      "userId": "07340868198097010212"
     },
     "user_tz": -120
    },
    "id": "QpyC5R2OAr3r",
    "outputId": "5c78bba0-0b88-4dc8-d4c1-85bdab6f30cc"
   },
   "outputs": [
    {
     "name": "stdout",
     "output_type": "stream",
     "text": [
      "Taux NaN variable  Num_Acc    0.0 %\n",
      "Taux NaN variable  num_veh    0.0 %\n",
      "Taux NaN variable  an_nais    0.6223949645695085 %\n",
      "Taux NaN variable  place    2.202598905935361 %\n",
      "Taux NaN variable  catu    0.0 %\n",
      "Taux NaN variable  sexe    0.0 %\n",
      "Taux NaN variable  trajet    0.022910244094583136 %\n",
      "Taux NaN variable  secu    74.67011258174335 %\n",
      "Taux NaN variable  secu1    26.159680381998175 %\n",
      "Taux NaN variable  secu2    26.159680381998175 %\n",
      "Taux NaN variable  secu3    26.159680381998175 %\n",
      "Taux NaN variable  locp    10.983050438711079 %\n",
      "Taux NaN variable  actp    10.98204560344377 %\n",
      "Taux NaN variable  etatp    10.98204560344377 %\n",
      "Taux NaN variable  grav    0.0 %\n",
      "Taux NaN variable  id_vehicule    26.159680381998175 %\n"
     ]
    }
   ],
   "source": [
    "for i in df_usagers :\n",
    "  print(\"Taux NaN variable \", i,  \"  \", df_usagers[i].isna().sum() /df_usagers.shape[0]*100, \"%\")"
   ]
  },
  {
   "cell_type": "markdown",
   "id": "mTKSs8oGAlED",
   "metadata": {
    "id": "mTKSs8oGAlED"
   },
   "source": [
    "Les variables Num_Acc, catu, sexe, num_vehicule ne contiennent pas de NaN.\n",
    "Les variables place, trajet, locp, actp, etatp, an_nais ont certaines valeurs Nan <10%.\n",
    "\n",
    "Certaines variables ont des valeurs -1 qui n'est pas prévu dans la documentation.\n",
    "\n",
    "Certaines variables comportent des NaN car la structure des donées à changer en 2019. \n",
    "\n",
    "La variables id_vehicule comporte 42% de Nan car cette variable n'est présente qu'à partir de 2019. Elle est redondante avec num_vehicule et peut être supprimée.\n",
    "\n",
    "Les variables secu, secu1/secu2/secu3 ont 42% de Nan car il y a un changement d'organisation de cette variable à partir de 2019. Il faudra traiter et peut être fusionner ces variables. "
   ]
  },
  {
   "cell_type": "code",
   "execution_count": null,
   "id": "PJTd16uuhlHF",
   "metadata": {
    "colab": {
     "base_uri": "https://localhost:8080/"
    },
    "executionInfo": {
     "elapsed": 560,
     "status": "ok",
     "timestamp": 1683293094932,
     "user": {
      "displayName": "Juliette Brezillon",
      "userId": "07340868198097010212"
     },
     "user_tz": -120
    },
    "id": "PJTd16uuhlHF",
    "outputId": "f9b6d76f-c8d0-46d2-b914-817aaa377b52"
   },
   "outputs": [
    {
     "name": "stdout",
     "output_type": "stream",
     "text": [
      " 1.0     368140\n",
      " 2.0      56418\n",
      " 10.0     28982\n",
      " NaN      10960\n",
      " 3.0       9459\n",
      " 4.0       8365\n",
      " 9.0       5199\n",
      " 7.0       4721\n",
      " 5.0       2506\n",
      " 8.0       2190\n",
      " 6.0        637\n",
      "-1.0         17\n",
      "Name: place, dtype: int64\n"
     ]
    }
   ],
   "source": [
    "print(df_usagers['place'].value_counts(dropna=False, ascending=False))\n",
    "# place comporte des -1 non prévues dans la documentation"
   ]
  },
  {
   "cell_type": "code",
   "execution_count": null,
   "id": "51ZfmKyYA_T7",
   "metadata": {
    "colab": {
     "base_uri": "https://localhost:8080/"
    },
    "executionInfo": {
     "elapsed": 5,
     "status": "ok",
     "timestamp": 1683293100650,
     "user": {
      "displayName": "Juliette Brezillon",
      "userId": "07340868198097010212"
     },
     "user_tz": -120
    },
    "id": "51ZfmKyYA_T7",
    "outputId": "7c4de27c-4489-45f5-9f4d-3c1c8d633359"
   },
   "outputs": [
    {
     "name": "stdout",
     "output_type": "stream",
     "text": [
      "1    368830\n",
      "2     88822\n",
      "3     39942\n",
      "Name: catu, dtype: int64\n"
     ]
    }
   ],
   "source": [
    "print(df_usagers['catu'].value_counts(dropna=False, ascending=False))\n",
    "# catu comporte des 4 non prévues dans la documentation"
   ]
  },
  {
   "cell_type": "code",
   "execution_count": null,
   "id": "egcTRvbqiyVN",
   "metadata": {
    "colab": {
     "base_uri": "https://localhost:8080/"
    },
    "executionInfo": {
     "elapsed": 3,
     "status": "ok",
     "timestamp": 1683293103844,
     "user": {
      "displayName": "Juliette Brezillon",
      "userId": "07340868198097010212"
     },
     "user_tz": -120
    },
    "id": "egcTRvbqiyVN",
    "outputId": "274b7b19-e5e9-4d78-89e9-8f862a949d8c"
   },
   "outputs": [
    {
     "name": "stdout",
     "output_type": "stream",
     "text": [
      " 1    337256\n",
      " 2    157276\n",
      "-1      3062\n",
      "Name: sexe, dtype: int64\n"
     ]
    }
   ],
   "source": [
    "print(df_usagers['sexe'].value_counts(dropna=False, ascending=False))\n",
    "\n",
    "# sexe comporte des -1 non prévues dans la documentation"
   ]
  },
  {
   "cell_type": "code",
   "execution_count": null,
   "id": "sqQXLQHViydj",
   "metadata": {
    "colab": {
     "base_uri": "https://localhost:8080/"
    },
    "executionInfo": {
     "elapsed": 359,
     "status": "ok",
     "timestamp": 1683293108061,
     "user": {
      "displayName": "Juliette Brezillon",
      "userId": "07340868198097010212"
     },
     "user_tz": -120
    },
    "id": "sqQXLQHViydj",
    "outputId": "4ef7a307-80fc-4ba8-886a-454795190a0a"
   },
   "outputs": [
    {
     "name": "stdout",
     "output_type": "stream",
     "text": [
      " 5.0    188406\n",
      " 0.0    122060\n",
      " 1.0     67510\n",
      " 4.0     47184\n",
      " 9.0     41330\n",
      " 3.0     16101\n",
      " 2.0     10863\n",
      "-1.0      4026\n",
      " NaN       114\n",
      "Name: trajet, dtype: int64\n"
     ]
    }
   ],
   "source": [
    "print(df_usagers['trajet'].value_counts(dropna=False, ascending=False))\n",
    "\n",
    "# trajet est cohérent avec les valeurs de la documentation et comporte des Nan"
   ]
  },
  {
   "cell_type": "code",
   "execution_count": null,
   "id": "V9_GPUa2jBzd",
   "metadata": {
    "colab": {
     "base_uri": "https://localhost:8080/"
    },
    "executionInfo": {
     "elapsed": 690,
     "status": "ok",
     "timestamp": 1683293114982,
     "user": {
      "displayName": "Juliette Brezillon",
      "userId": "07340868198097010212"
     },
     "user_tz": -120
    },
    "id": "V9_GPUa2jBzd",
    "outputId": "86c9be07-2650-4703-b21f-a80775c5f58c"
   },
   "outputs": [
    {
     "name": "stdout",
     "output_type": "stream",
     "text": [
      " 0.0    238884\n",
      "-1.0    165644\n",
      " NaN     54651\n",
      " 3.0     11931\n",
      " 2.0      8923\n",
      " 4.0      6022\n",
      " 1.0      5599\n",
      " 5.0      2872\n",
      " 9.0      1367\n",
      " 6.0      1091\n",
      " 8.0       563\n",
      " 7.0        47\n",
      "Name: locp, dtype: int64\n"
     ]
    }
   ],
   "source": [
    "print(df_usagers['locp'].value_counts(dropna=False, ascending=False))\n",
    "\n",
    "# locp est cohérent avec les valeurs de la documentation et comporte des Nan"
   ]
  },
  {
   "cell_type": "code",
   "execution_count": null,
   "id": "AwUf9356jB6c",
   "metadata": {
    "colab": {
     "base_uri": "https://localhost:8080/"
    },
    "executionInfo": {
     "elapsed": 3,
     "status": "ok",
     "timestamp": 1683293117709,
     "user": {
      "displayName": "Juliette Brezillon",
      "userId": "07340868198097010212"
     },
     "user_tz": -120
    },
    "id": "AwUf9356jB6c",
    "outputId": "5633963d-05d6-41af-bab7-51c54d5e9560"
   },
   "outputs": [
    {
     "name": "stdout",
     "output_type": "stream",
     "text": [
      "0      202904\n",
      " -1    136046\n",
      "0.0     58011\n",
      "NaN     54646\n",
      "3       20923\n",
      "0.0      7209\n",
      "3.0      6613\n",
      "9        1879\n",
      "1        1834\n",
      "3.0      1315\n",
      "5        1183\n",
      "B         931\n",
      "2         828\n",
      "9.0       651\n",
      "1.0       527\n",
      "4         411\n",
      "5.0       338\n",
      "A         324\n",
      "2.0       256\n",
      "5.0       146\n",
      "4.0       118\n",
      "9.0       109\n",
      "1.0       102\n",
      "6          83\n",
      "4.0        63\n",
      "8          40\n",
      "7          39\n",
      "2.0        37\n",
      "6.0        28\n",
      "Name: actp, dtype: int64\n"
     ]
    }
   ],
   "source": [
    "print(df_usagers['actp'].value_counts(dropna=False, ascending=False))\n",
    "\n",
    "# actp est cohérent avec les valeurs de la documentation et comporte des Nan\n",
    "# certaines valeurs sont redondantes : pb de type ?"
   ]
  },
  {
   "cell_type": "code",
   "execution_count": null,
   "id": "s-vDKnIFkfQv",
   "metadata": {
    "colab": {
     "base_uri": "https://localhost:8080/"
    },
    "executionInfo": {
     "elapsed": 5,
     "status": "ok",
     "timestamp": 1683293124806,
     "user": {
      "displayName": "Juliette Brezillon",
      "userId": "07340868198097010212"
     },
     "user_tz": -120
    },
    "id": "s-vDKnIFkfQv",
    "outputId": "e7f1d3ff-8d45-4de0-aabf-d1109d2bf752"
   },
   "outputs": [
    {
     "name": "stdout",
     "output_type": "stream",
     "text": [
      "-1.0    339004\n",
      " 0.0     65020\n",
      " NaN     54646\n",
      " 1.0     29492\n",
      " 2.0      7822\n",
      " 3.0      1610\n",
      "Name: etatp, dtype: int64\n"
     ]
    }
   ],
   "source": [
    "print(df_usagers['etatp'].value_counts(dropna=False, ascending=False))\n",
    "\n",
    "# etatp comporte des 0 non prévues dans la documentation"
   ]
  },
  {
   "cell_type": "code",
   "execution_count": null,
   "id": "9223i3F2kfW8",
   "metadata": {
    "colab": {
     "base_uri": "https://localhost:8080/"
    },
    "executionInfo": {
     "elapsed": 4,
     "status": "ok",
     "timestamp": 1683293129586,
     "user": {
      "displayName": "Juliette Brezillon",
      "userId": "07340868198097010212"
     },
     "user_tz": -120
    },
    "id": "9223i3F2kfW8",
    "outputId": "7c194be4-5d16-45a4-c6a9-05e3ff6660a0"
   },
   "outputs": [
    {
     "data": {
      "text/plain": [
       "2000.0    13996\n",
       "1999.0    13986\n",
       "1998.0    13607\n",
       "1997.0    12933\n",
       "1996.0    12727\n",
       "          ...  \n",
       "1910.0        3\n",
       "1916.0        2\n",
       "1911.0        2\n",
       "1917.0        1\n",
       "1912.0        1\n",
       "Name: an_nais, Length: 112, dtype: int64"
      ]
     },
     "execution_count": 27,
     "metadata": {},
     "output_type": "execute_result"
    }
   ],
   "source": [
    "df_usagers['an_nais'].value_counts(dropna=False)\n",
    "\n",
    "# Pas de NaN"
   ]
  },
  {
   "cell_type": "code",
   "execution_count": null,
   "id": "AMP795zGkfcP",
   "metadata": {
    "colab": {
     "base_uri": "https://localhost:8080/"
    },
    "executionInfo": {
     "elapsed": 4,
     "status": "ok",
     "timestamp": 1683293133082,
     "user": {
      "displayName": "Juliette Brezillon",
      "userId": "07340868198097010212"
     },
     "user_tz": -120
    },
    "id": "AMP795zGkfcP",
    "outputId": "29d9e0d2-80f7-4e3b-af8b-e405dacd5f7a"
   },
   "outputs": [
    {
     "data": {
      "text/plain": [
       "A01     300324\n",
       "B01     166772\n",
       "C01      19643\n",
       "D01       4292\n",
       "Z01       4044\n",
       "         ...  \n",
       "\\01          1\n",
       "LB01         1\n",
       "Z02          1\n",
       "C02          1\n",
       "]01          1\n",
       "Name: num_veh, Length: 75, dtype: int64"
      ]
     },
     "execution_count": 28,
     "metadata": {},
     "output_type": "execute_result"
    }
   ],
   "source": [
    "df_usagers['num_veh'].value_counts(dropna=False, ascending=False)\n",
    "\n",
    "# pas de NaN"
   ]
  },
  {
   "cell_type": "code",
   "execution_count": null,
   "id": "0V2Ekt1puTzj",
   "metadata": {
    "colab": {
     "base_uri": "https://localhost:8080/"
    },
    "executionInfo": {
     "elapsed": 4,
     "status": "ok",
     "timestamp": 1683293135636,
     "user": {
      "displayName": "Juliette Brezillon",
      "userId": "07340868198097010212"
     },
     "user_tz": -120
    },
    "id": "0V2Ekt1puTzj",
    "outputId": "5ed3a291-4eb2-47f6-ed48-bbad70aae983"
   },
   "outputs": [
    {
     "data": {
      "text/plain": [
       "NaN     371554\n",
       "11.0     77566\n",
       "21.0     24118\n",
       "3.0       7543\n",
       "13.0      6703\n",
       "2.0       2399\n",
       "23.0      1574\n",
       "12.0      1553\n",
       "93.0      1370\n",
       "31.0      1033\n",
       "22.0       937\n",
       "91.0       477\n",
       "92.0       380\n",
       "41.0       120\n",
       "42.0       106\n",
       "43.0       100\n",
       "33.0        27\n",
       "1.0         23\n",
       "32.0        11\n",
       "Name: secu, dtype: int64"
      ]
     },
     "execution_count": 29,
     "metadata": {},
     "output_type": "execute_result"
    }
   ],
   "source": [
    "df_usagers['secu'].value_counts(dropna=False, ascending=False)"
   ]
  },
  {
   "cell_type": "code",
   "execution_count": null,
   "id": "jL-rJEOhuT7r",
   "metadata": {
    "colab": {
     "base_uri": "https://localhost:8080/"
    },
    "executionInfo": {
     "elapsed": 5,
     "status": "ok",
     "timestamp": 1683293141224,
     "user": {
      "displayName": "Juliette Brezillon",
      "userId": "07340868198097010212"
     },
     "user_tz": -120
    },
    "id": "jL-rJEOhuT7r",
    "outputId": "83ff6b49-4164-4656-c403-cb17882af473"
   },
   "outputs": [
    {
     "data": {
      "text/plain": [
       " 1.0    218344\n",
       " NaN    130169\n",
       " 2.0     68650\n",
       " 8.0     44988\n",
       " 0.0     28989\n",
       "-1.0      2912\n",
       " 3.0      2384\n",
       " 9.0       420\n",
       " 6.0       302\n",
       " 4.0       232\n",
       " 5.0       194\n",
       " 7.0        10\n",
       "Name: secu1, dtype: int64"
      ]
     },
     "execution_count": 30,
     "metadata": {},
     "output_type": "execute_result"
    }
   ],
   "source": [
    "df_usagers['secu1'].value_counts(dropna=False, ascending=False)\n",
    "\n",
    "# secu1 est cohérent avec les valeurs de la documentation et comporte des Nan\n"
   ]
  },
  {
   "cell_type": "code",
   "execution_count": null,
   "id": "BSNCphMEuUBY",
   "metadata": {
    "colab": {
     "base_uri": "https://localhost:8080/"
    },
    "executionInfo": {
     "elapsed": 5,
     "status": "ok",
     "timestamp": 1683293143208,
     "user": {
      "displayName": "Juliette Brezillon",
      "userId": "07340868198097010212"
     },
     "user_tz": -120
    },
    "id": "BSNCphMEuUBY",
    "outputId": "055e83f0-d719-4b37-dc44-66c56200251c"
   },
   "outputs": [
    {
     "data": {
      "text/plain": [
       " 0.0    146876\n",
       "-1.0    134830\n",
       " NaN    130169\n",
       " 8.0     41228\n",
       " 6.0     33212\n",
       " 5.0      4560\n",
       " 4.0      3363\n",
       " 9.0      1059\n",
       " 2.0       739\n",
       " 1.0       670\n",
       " 7.0       505\n",
       " 3.0       383\n",
       "Name: secu2, dtype: int64"
      ]
     },
     "execution_count": 31,
     "metadata": {},
     "output_type": "execute_result"
    }
   ],
   "source": [
    "df_usagers['secu2'].value_counts(dropna=False, ascending=False)\n",
    "\n",
    "# secu2 est cohérent avec les valeurs de la documentation et comporte des Nan\n"
   ]
  },
  {
   "cell_type": "code",
   "execution_count": null,
   "id": "AX2ztwmCuaV2",
   "metadata": {
    "colab": {
     "base_uri": "https://localhost:8080/"
    },
    "executionInfo": {
     "elapsed": 4,
     "status": "ok",
     "timestamp": 1683293147496,
     "user": {
      "displayName": "Juliette Brezillon",
      "userId": "07340868198097010212"
     },
     "user_tz": -120
    },
    "id": "AX2ztwmCuaV2",
    "outputId": "a6e757ed-a65a-4733-8c35-5a5f5fd62561"
   },
   "outputs": [
    {
     "data": {
      "text/plain": [
       "-1.0    363199\n",
       " NaN    130169\n",
       " 9.0      2659\n",
       " 0.0      1102\n",
       " 6.0       190\n",
       " 8.0       164\n",
       " 4.0        51\n",
       " 1.0        21\n",
       " 5.0        19\n",
       " 7.0         8\n",
       " 2.0         7\n",
       " 3.0         5\n",
       "Name: secu3, dtype: int64"
      ]
     },
     "execution_count": 32,
     "metadata": {},
     "output_type": "execute_result"
    }
   ],
   "source": [
    "# Recherche de valeurs non prévues \n",
    "df_usagers['secu3'].value_counts(dropna=False, ascending=False)\n",
    "\n",
    "# secu2 est cohérent avec les valeurs de la documentation et comporte des Nan\n"
   ]
  },
  {
   "cell_type": "markdown",
   "id": "tK6753TgmZnK",
   "metadata": {
    "id": "tK6753TgmZnK"
   },
   "source": [
    "## Distribution des valeurs"
   ]
  },
  {
   "cell_type": "markdown",
   "id": "3ohy1bq-m5Si",
   "metadata": {
    "id": "3ohy1bq-m5Si"
   },
   "source": [
    "Num_Acc : numérique\n",
    "\n",
    "id_vehicule : numérique\n",
    "\n",
    "num_Veh : numérique\n",
    "\n",
    "place : catégorielle (10 catégories)\n",
    "\n",
    "catu : catégorielle (3 catégories)\n",
    "\n",
    "sexe : catégorielle (2 catégories)\n",
    "\n",
    "An_nais : numérique\n",
    "\n",
    "trajet : catégorielle (10 catégories)\n",
    "\n",
    "secu : catégorielle (2 catégories)\n",
    "secu1/secu2/secu3 : catégorielle (10 catégories)\n",
    "\n",
    "locp : catégorielle (2 catégories)\n",
    "\n",
    "actp : catégorielle (10 catégories)\n",
    "\n",
    "etatp : catégorielle (4 catégories)\n",
    "\n",
    "Etendue des valeurs : cf documentation \n",
    "https://static.data.gouv.fr/resources/bases-de-donnees-annuelles-des-accidents-corporels-de-la-circulation-routiere-annees-de-2005-a-2021/20221104-163105/description-des-bases-de-donnees-annuelles-2021.pdf"
   ]
  },
  {
   "cell_type": "markdown",
   "id": "qJEAssVGoLsT",
   "metadata": {
    "id": "qJEAssVGoLsT"
   },
   "source": [
    "## Relation entre les valeurs"
   ]
  },
  {
   "cell_type": "markdown",
   "id": "WYFYYT7moL1x",
   "metadata": {
    "id": "WYFYYT7moL1x"
   },
   "source": [
    "Toutes les variables descriptives sont cardinales, \n",
    "il n'y a de notion d'ordre dans les valeurs"
   ]
  },
  {
   "cell_type": "markdown",
   "id": "2RoK3rYQod87",
   "metadata": {
    "id": "2RoK3rYQod87"
   },
   "source": [
    "## Equilibre des variables"
   ]
  },
  {
   "cell_type": "markdown",
   "id": "XJov2VjArFbP",
   "metadata": {
    "id": "XJov2VjArFbP"
   },
   "source": [
    "*Quelle est la répartition des valeurs ? La répartition vous semble-t-ellle équilibrée ou trop focalisée autour d'une valeur*"
   ]
  },
  {
   "cell_type": "code",
   "execution_count": null,
   "id": "zJAll-YXoeSC",
   "metadata": {
    "colab": {
     "base_uri": "https://localhost:8080/"
    },
    "executionInfo": {
     "elapsed": 617,
     "status": "ok",
     "timestamp": 1683293159786,
     "user": {
      "displayName": "Juliette Brezillon",
      "userId": "07340868198097010212"
     },
     "user_tz": -120
    },
    "id": "zJAll-YXoeSC",
    "outputId": "051be552-5579-4ec8-a3d1-2fe9cc9ce964"
   },
   "outputs": [
    {
     "name": "stdout",
     "output_type": "stream",
     "text": [
      "Num_Acc\n",
      "201800017680    0.000102\n",
      "201800019383    0.000092\n",
      "201800013008    0.000088\n",
      "201800029284    0.000078\n",
      "201800006589    0.000076\n",
      "                  ...   \n",
      "201800034763    0.000002\n",
      "201900037942    0.000002\n",
      "201800034760    0.000002\n",
      "201800034759    0.000002\n",
      "201900001250    0.000002\n",
      "Name: Num_Acc, Length: 220885, dtype: float64\n",
      "num_veh\n",
      "A01     0.603552\n",
      "B01     0.335157\n",
      "C01     0.039476\n",
      "D01     0.008626\n",
      "Z01     0.008127\n",
      "          ...   \n",
      "\\01     0.000002\n",
      "LB01    0.000002\n",
      "Z02     0.000002\n",
      "C02     0.000002\n",
      "]01     0.000002\n",
      "Name: num_veh, Length: 75, dtype: float64\n",
      "an_nais\n",
      "2000.0    0.028304\n",
      "1999.0    0.028283\n",
      "1998.0    0.027517\n",
      "1997.0    0.026154\n",
      "1996.0    0.025737\n",
      "            ...   \n",
      "1910.0    0.000006\n",
      "1916.0    0.000004\n",
      "1911.0    0.000004\n",
      "1917.0    0.000002\n",
      "1912.0    0.000002\n",
      "Name: an_nais, Length: 111, dtype: float64\n",
      "place\n",
      " 1.0     0.756503\n",
      " 2.0     0.115935\n",
      " 10.0    0.059556\n",
      " 3.0     0.019438\n",
      " 4.0     0.017190\n",
      " 9.0     0.010684\n",
      " 7.0     0.009701\n",
      " 5.0     0.005150\n",
      " 8.0     0.004500\n",
      " 6.0     0.001309\n",
      "-1.0     0.000035\n",
      "Name: place, dtype: float64\n",
      "catu\n",
      "1    0.741227\n",
      "2    0.178503\n",
      "3    0.080270\n",
      "Name: catu, dtype: float64\n",
      "sexe\n",
      " 1    0.677773\n",
      " 2    0.316073\n",
      "-1    0.006154\n",
      "Name: sexe, dtype: float64\n",
      "trajet\n",
      " 5.0    0.378721\n",
      " 0.0    0.245357\n",
      " 1.0    0.135704\n",
      " 4.0    0.094846\n",
      " 9.0    0.083079\n",
      " 3.0    0.032365\n",
      " 2.0    0.021836\n",
      "-1.0    0.008093\n",
      "Name: trajet, dtype: float64\n",
      "secu\n",
      "11.0    0.615408\n",
      "21.0    0.191352\n",
      "3.0     0.059846\n",
      "13.0    0.053182\n",
      "2.0     0.019034\n",
      "23.0    0.012488\n",
      "12.0    0.012321\n",
      "93.0    0.010870\n",
      "31.0    0.008196\n",
      "22.0    0.007434\n",
      "91.0    0.003785\n",
      "92.0    0.003015\n",
      "41.0    0.000952\n",
      "42.0    0.000841\n",
      "43.0    0.000793\n",
      "33.0    0.000214\n",
      "1.0     0.000182\n",
      "32.0    0.000087\n",
      "Name: secu, dtype: float64\n",
      "secu1\n",
      " 1.0    0.594255\n",
      " 2.0    0.186841\n",
      " 8.0    0.122441\n",
      " 0.0    0.078898\n",
      "-1.0    0.007925\n",
      " 3.0    0.006488\n",
      " 9.0    0.001143\n",
      " 6.0    0.000822\n",
      " 4.0    0.000631\n",
      " 5.0    0.000528\n",
      " 7.0    0.000027\n",
      "Name: secu1, dtype: float64\n",
      "secu2\n",
      " 0.0    0.399744\n",
      "-1.0    0.366959\n",
      " 8.0    0.112208\n",
      " 6.0    0.090391\n",
      " 5.0    0.012411\n",
      " 4.0    0.009153\n",
      " 9.0    0.002882\n",
      " 2.0    0.002011\n",
      " 1.0    0.001824\n",
      " 7.0    0.001374\n",
      " 3.0    0.001042\n",
      "Name: secu2, dtype: float64\n",
      "secu3\n",
      "-1.0    0.988498\n",
      " 9.0    0.007237\n",
      " 0.0    0.002999\n",
      " 6.0    0.000517\n",
      " 8.0    0.000446\n",
      " 4.0    0.000139\n",
      " 1.0    0.000057\n",
      " 5.0    0.000052\n",
      " 7.0    0.000022\n",
      " 2.0    0.000019\n",
      " 3.0    0.000014\n",
      "Name: secu3, dtype: float64\n",
      "locp\n",
      " 0.0    0.539311\n",
      "-1.0    0.373962\n",
      " 3.0    0.026936\n",
      " 2.0    0.020145\n",
      " 4.0    0.013595\n",
      " 1.0    0.012640\n",
      " 5.0    0.006484\n",
      " 9.0    0.003086\n",
      " 6.0    0.002463\n",
      " 8.0    0.001271\n",
      " 7.0    0.000106\n",
      "Name: locp, dtype: float64\n",
      "actp\n",
      "0      0.458076\n",
      " -1    0.307138\n",
      "0.0    0.130966\n",
      "3      0.047236\n",
      "0.0    0.016275\n",
      "3.0    0.014930\n",
      "9      0.004242\n",
      "1      0.004140\n",
      "3.0    0.002969\n",
      "5      0.002671\n",
      "B      0.002102\n",
      "2      0.001869\n",
      "9.0    0.001470\n",
      "1.0    0.001190\n",
      "4      0.000928\n",
      "5.0    0.000763\n",
      "A      0.000731\n",
      "2.0    0.000578\n",
      "5.0    0.000330\n",
      "4.0    0.000266\n",
      "9.0    0.000246\n",
      "1.0    0.000230\n",
      "6      0.000187\n",
      "4.0    0.000142\n",
      "8      0.000090\n",
      "7      0.000088\n",
      "2.0    0.000084\n",
      "6.0    0.000063\n",
      "Name: actp, dtype: float64\n",
      "etatp\n",
      "-1.0    0.765336\n",
      " 0.0    0.146789\n",
      " 1.0    0.066581\n",
      " 2.0    0.017659\n",
      " 3.0    0.003635\n",
      "Name: etatp, dtype: float64\n",
      "grav\n",
      " 1    0.417885\n",
      " 4    0.397555\n",
      " 3    0.158537\n",
      " 2    0.025903\n",
      "-1    0.000121\n",
      "Name: grav, dtype: float64\n",
      "id_vehicule\n",
      "154 730 652    0.000093\n",
      "138 212 691    0.000090\n",
      "154 740 432    0.000084\n",
      "138 250 566    0.000082\n",
      "138 255 393    0.000068\n",
      "                 ...   \n",
      "154 735 201    0.000003\n",
      "154 735 198    0.000003\n",
      "154 735 199    0.000003\n",
      "154 735 197    0.000003\n",
      "100 883        0.000003\n",
      "Name: id_vehicule, Length: 275146, dtype: float64\n"
     ]
    }
   ],
   "source": [
    "# pour les variables statistiques\n",
    "\n",
    "for i in df_usagers : \n",
    " print(i)\n",
    " print(df_usagers[i].value_counts(normalize=True))"
   ]
  },
  {
   "cell_type": "markdown",
   "id": "1p083e48sQpf",
   "metadata": {
    "id": "1p083e48sQpf"
   },
   "source": [
    "Num_acc, num_vehicul, id_vehicule : variables id de liaison\n",
    "\n",
    "an_nais : équilibrée\n",
    "\n",
    "place : déséquilibré (76% valeur 1)\n",
    "\n",
    "catu : déséquilibré (74% valeur 1)\n",
    "\n",
    "sexe : plutôt équilibrée (68% valeur 1)\n",
    "\n",
    "locp : déséquilibré (62% valeur 0)\n",
    "\n",
    "actp : déséquilibré (60% valeur 0)\n",
    "\n",
    "trajet : déséquilibrée (60% valeur 11)\n",
    "\n",
    "etap : déséquilibré  (58% valeur -1, 80% valeurs -1 ou 0)\n",
    "\n",
    "secu : déséquilibré  (60% valeur 11)\n",
    "\n",
    "secu1 : déséquilibré (60% valeur 1)\n",
    "\n",
    "secu2 : assez deséquilibrée (40% valeur 0, 36% valeur 1..)\n",
    "\n",
    "secu3 : trés déséquilibré (98% valeur -1)"
   ]
  },
  {
   "cell_type": "markdown",
   "id": "MIn3mikh3TQX",
   "metadata": {
    "id": "MIn3mikh3TQX"
   },
   "source": [
    "## Regroupement de valeurs"
   ]
  },
  {
   "cell_type": "markdown",
   "id": "yY3hTs1gunvY",
   "metadata": {
    "id": "yY3hTs1gunvY"
   },
   "source": [
    "*Pensez vous modifier ou regrouper ou découper les valeurs ? si oui détaillez votre démarche*\n",
    "\n",
    "Traitement des valeurs pour la variable actp : il faut changer les valeurs 0.0, 1.0, 2.0,... par 0, 1, 2\n",
    "\n",
    "Traitement /fusion des variables secu et secu1, secu2, secu3\n",
    "\n",
    "Ces deux sujets sont traitées dans la partie \"Traitement des données\""
   ]
  },
  {
   "cell_type": "markdown",
   "id": "yXweYkJCpKPj",
   "metadata": {
    "id": "yXweYkJCpKPj"
   },
   "source": [
    "## Pertinence métier des variables\n"
   ]
  },
  {
   "cell_type": "markdown",
   "id": "8tTqfWSJpKdD",
   "metadata": {
    "id": "8tTqfWSJpKdD"
   },
   "source": [
    "*Selon vous, ou l'avis d'experts que vous avez consulté, la variable vous semble-t-elle pertinente pour expliquer la variable cible. Si oui, détaillez*\n",
    "\n",
    "Aucune variable n'est corrélée à la variable cible mais chaque variabble descriptive est pertinente pour expliquer la variable cible,\n",
    "sauf les variables id* et num* qui servent à faire le lien avec les autres fichiers du dataset et qui pourront être supprimées après la fusion de l'ensemble des fichiers.\n"
   ]
  },
  {
   "cell_type": "markdown",
   "id": "4-L_lZFepYLd",
   "metadata": {
    "id": "4-L_lZFepYLd"
   },
   "source": [
    "## Fiabilité de la méthode d'acquisition"
   ]
  },
  {
   "cell_type": "markdown",
   "id": "cVF6cDW5pYQF",
   "metadata": {
    "id": "cVF6cDW5pYQF"
   },
   "source": [
    "*Connaissez vous la façon dont a été acquise la données. Avez vous confiance dans les champs renseingés ? Si non, détaillez pourquoi*\n",
    "\n",
    "décrit dans la documentation : https://static.data.gouv.fr/resources/bases-de-donnees-annuelles-des-accidents-corporels-de-la-circulation-routiere-annees-de-2005-a-2021/20221104-163105/description-des-bases-de-donnees-annuelles-2021.pdf"
   ]
  },
  {
   "cell_type": "markdown",
   "id": "YREowltHqSFX",
   "metadata": {
    "id": "YREowltHqSFX"
   },
   "source": [
    "# Traitements des données"
   ]
  },
  {
   "cell_type": "markdown",
   "id": "ltB7NInIlHao",
   "metadata": {
    "id": "ltB7NInIlHao"
   },
   "source": [
    "## Traitement variable actp (pb type valeurs)"
   ]
  },
  {
   "cell_type": "markdown",
   "id": "Ng6fAIzT7mYd",
   "metadata": {
    "id": "Ng6fAIzT7mYd"
   },
   "source": [
    "La variables possédent des int (1.0, 2.0....) et des char ('1', '2'...).\n",
    "ainsi que deux valeurs 'A' et 'B' \n",
    "\n",
    "Traitement #1 : transformation de toutes les valeurs en int"
   ]
  },
  {
   "cell_type": "code",
   "execution_count": null,
   "id": "fCq9IzJzjB9k",
   "metadata": {
    "colab": {
     "base_uri": "https://localhost:8080/"
    },
    "executionInfo": {
     "elapsed": 1701,
     "status": "ok",
     "timestamp": 1683293716650,
     "user": {
      "displayName": "Juliette Brezillon",
      "userId": "07340868198097010212"
     },
     "user_tz": -120
    },
    "id": "fCq9IzJzjB9k",
    "outputId": "bff3a778-bf3a-4ce9-e1fe-e65daef6d6de"
   },
   "outputs": [
    {
     "name": "stdout",
     "output_type": "stream",
     "text": [
      "0      268124\n",
      "-1     190692\n",
      "3       29206\n",
      "9        2530\n",
      "1        2361\n",
      "5        1521\n",
      "2        1084\n",
      "11        931\n",
      "4         529\n",
      "10        324\n",
      "6         111\n",
      "1.0       102\n",
      "8          40\n",
      "7          39\n",
      "Name: actp, dtype: int64\n",
      "0     268124\n",
      "-1    190692\n",
      "3      29308\n",
      "9       2530\n",
      "1       2361\n",
      "5       1521\n",
      "2       1084\n",
      "11       931\n",
      "4        529\n",
      "10       324\n",
      "6        111\n",
      "8         40\n",
      "7         39\n",
      "Name: actp, dtype: int64\n"
     ]
    }
   ],
   "source": [
    "print(df_usagers['actp'].value_counts(dropna=False))\n",
    "\n",
    "df_usagers['actp']=df_usagers['actp'].replace('B', '11')\n",
    "df_usagers['actp']=df_usagers['actp'].replace('A', '10')\n",
    "df_usagers['actp']= df_usagers['actp'].replace('0', 0)\n",
    "df_usagers['actp']= df_usagers['actp'].replace('0.0', 0)\n",
    "df_usagers['actp']= df_usagers['actp'].replace(0.0, 0)\n",
    "df_usagers['actp']= df_usagers['actp'].replace('1', 1)\n",
    "df_usagers['actp']= df_usagers['actp'].replace('1.0', 3)\n",
    "df_usagers['actp']= df_usagers['actp'].replace(1.0, 1)\n",
    "df_usagers['actp']= df_usagers['actp'].replace('2', 2)\n",
    "df_usagers['actp']= df_usagers['actp'].replace('2.0', 3)\n",
    "df_usagers['actp']= df_usagers['actp'].replace(2.0, 2)\n",
    "df_usagers['actp']= df_usagers['actp'].replace('3', 3)\n",
    "df_usagers['actp']= df_usagers['actp'].replace('3.0', 3)\n",
    "df_usagers['actp']= df_usagers['actp'].replace(3.0, 3)\n",
    "df_usagers['actp']= df_usagers['actp'].replace('4.0', 3)\n",
    "df_usagers['actp']= df_usagers['actp'].replace('4', 4)\n",
    "df_usagers['actp']= df_usagers['actp'].replace(4.0, 4)\n",
    "df_usagers['actp']= df_usagers['actp'].replace('5.0', 3)\n",
    "df_usagers['actp']= df_usagers['actp'].replace('5', 5)\n",
    "df_usagers['actp']= df_usagers['actp'].replace(5.0, 5)\n",
    "df_usagers['actp']= df_usagers['actp'].replace('6.0', 3)\n",
    "df_usagers['actp']= df_usagers['actp'].replace('6', 6)\n",
    "df_usagers['actp']= df_usagers['actp'].replace(6.0, 6)\n",
    "df_usagers['actp']= df_usagers['actp'].replace('7.0', 3)\n",
    "df_usagers['actp']= df_usagers['actp'].replace('7', 7)\n",
    "df_usagers['actp']= df_usagers['actp'].replace(7.0, 7)\n",
    "df_usagers['actp']= df_usagers['actp'].replace('8.0', 3)\n",
    "df_usagers['actp']= df_usagers['actp'].replace('8', 8)\n",
    "df_usagers['actp']= df_usagers['actp'].replace(8.0, 8)\n",
    "df_usagers['actp']= df_usagers['actp'].replace('9.0', 3)\n",
    "df_usagers['actp']= df_usagers['actp'].replace('9', 9)\n",
    "df_usagers['actp']= df_usagers['actp'].replace(9.0, 9)\n",
    "df_usagers['actp']= df_usagers['actp'].replace('10.0', 3)\n",
    "df_usagers['actp']= df_usagers['actp'].replace('10', 10)\n",
    "df_usagers['actp']= df_usagers['actp'].replace(10.0, 10)\n",
    "\n",
    "\n",
    "print(df_usagers['actp'].value_counts(dropna=False))\n"
   ]
  },
  {
   "cell_type": "code",
   "execution_count": null,
   "id": "sa8FykfV8B6O",
   "metadata": {
    "colab": {
     "base_uri": "https://localhost:8080/"
    },
    "executionInfo": {
     "elapsed": 208,
     "status": "ok",
     "timestamp": 1683293721230,
     "user": {
      "displayName": "Juliette Brezillon",
      "userId": "07340868198097010212"
     },
     "user_tz": -120
    },
    "id": "sa8FykfV8B6O",
    "outputId": "81461388-c6bb-4033-f30d-1dc045b1b144"
   },
   "outputs": [
    {
     "name": "stdout",
     "output_type": "stream",
     "text": [
      "object\n",
      "int64\n"
     ]
    }
   ],
   "source": [
    "# replacement des Nan et ' -1' par -1 pour pouvoir changer  le type de colonne en int\n",
    "\n",
    "print(df_usagers['actp'].dtype)\n",
    "df_usagers['actp'] = df_usagers['actp'].replace(np.NaN, -1)\n",
    "df_usagers['actp'] = df_usagers['actp'].replace(' -1' ,-1)\n",
    "\n",
    "df_usagers['actp'] = df_usagers['actp'].astype(np.int64)\n",
    "print(df_usagers['actp'].dtype)"
   ]
  },
  {
   "cell_type": "markdown",
   "id": "xZfbYwAjlCGH",
   "metadata": {
    "id": "xZfbYwAjlCGH"
   },
   "source": [
    "## Traitement id_vehicule / num_vehicule"
   ]
  },
  {
   "cell_type": "markdown",
   "id": "_JG_lYjv-bV1",
   "metadata": {
    "id": "_JG_lYjv-bV1"
   },
   "source": [
    "Variables redondantes et id_vehicule n'est présente que depuis 2019\n",
    "\n",
    "\n",
    "=> question : je la supprimerais ?"
   ]
  },
  {
   "cell_type": "markdown",
   "id": "IXblugxkleTy",
   "metadata": {
    "id": "IXblugxkleTy"
   },
   "source": [
    "## Traitement variables secu (2017-2018) et secu1,2,3 (2019-2021)"
   ]
  },
  {
   "cell_type": "markdown",
   "id": "K732x6rdBTfW",
   "metadata": {
    "id": "K732x6rdBTfW"
   },
   "source": [
    "secu : \n",
    "sur 2 caractères :\n",
    "\n",
    "le premier concerne l’existence d’un Équipement de sécurité\n",
    "1 – Ceinture\n",
    "2 – Casque\n",
    "3 – Dispositif enfants\n",
    "4 – Equipement réfléchissant\n",
    "9 – Autre\n",
    "\n",
    "le second concerne l’utilisation de l’Équipement de sécurité\n",
    "1 – Oui\n",
    "2 – Non\n",
    "3 – Non déterminable\n",
    "\n",
    "11 dans secu doit devenir 1 dans secu1\n",
    "\n",
    "21 dans secu doit devenir 2 dans secu1\n",
    "\n",
    "31 dans secu doit devenir 3 dans secu1\n",
    "\n",
    "41 dans secu doit devenir 4 dans secu1\n",
    "\n",
    "91 dans secu doit devenir 9 dans secu1\n"
   ]
  },
  {
   "cell_type": "code",
   "execution_count": 1,
   "id": "WY5iwddUkfiE",
   "metadata": {
    "colab": {
     "base_uri": "https://localhost:8080/",
     "height": 243
    },
    "executionInfo": {
     "elapsed": 280,
     "status": "error",
     "timestamp": 1683901528908,
     "user": {
      "displayName": "Juliette Brezillon",
      "userId": "07340868198097010212"
     },
     "user_tz": -120
    },
    "id": "WY5iwddUkfiE",
    "outputId": "f45f2344-2f23-47ca-8ef6-d58380d7283b"
   },
   "outputs": [
    {
     "ename": "NameError",
     "evalue": "ignored",
     "output_type": "error",
     "traceback": [
      "\u001b[0;31m---------------------------------------------------------------------------\u001b[0m",
      "\u001b[0;31mNameError\u001b[0m                                 Traceback (most recent call last)",
      "\u001b[0;32m<ipython-input-1-e52df7232d9d>\u001b[0m in \u001b[0;36m<cell line: 1>\u001b[0;34m()\u001b[0m\n\u001b[0;32m----> 1\u001b[0;31m \u001b[0mind\u001b[0m\u001b[0;34m=\u001b[0m \u001b[0mdf_usagers\u001b[0m\u001b[0;34m.\u001b[0m\u001b[0mindex\u001b[0m\u001b[0;34m[\u001b[0m\u001b[0;34m(\u001b[0m\u001b[0mdf_usagers\u001b[0m\u001b[0;34m[\u001b[0m\u001b[0;34m'secu'\u001b[0m\u001b[0;34m]\u001b[0m \u001b[0;34m==\u001b[0m \u001b[0;36m11.0\u001b[0m\u001b[0;34m)\u001b[0m\u001b[0;34m]\u001b[0m\u001b[0;34m.\u001b[0m\u001b[0mtolist\u001b[0m\u001b[0;34m(\u001b[0m\u001b[0;34m)\u001b[0m\u001b[0;34m\u001b[0m\u001b[0;34m\u001b[0m\u001b[0m\n\u001b[0m\u001b[1;32m      2\u001b[0m \u001b[0mdf_usagers\u001b[0m\u001b[0;34m.\u001b[0m\u001b[0mloc\u001b[0m\u001b[0;34m[\u001b[0m\u001b[0mind\u001b[0m\u001b[0;34m,\u001b[0m \u001b[0;34m'secu1'\u001b[0m\u001b[0;34m]\u001b[0m \u001b[0;34m=\u001b[0m \u001b[0;36m1.0\u001b[0m\u001b[0;34m\u001b[0m\u001b[0;34m\u001b[0m\u001b[0m\n\u001b[1;32m      3\u001b[0m \u001b[0;34m\u001b[0m\u001b[0m\n\u001b[1;32m      4\u001b[0m \u001b[0mind\u001b[0m\u001b[0;34m=\u001b[0m \u001b[0mdf_usagers\u001b[0m\u001b[0;34m.\u001b[0m\u001b[0mindex\u001b[0m\u001b[0;34m[\u001b[0m\u001b[0;34m(\u001b[0m\u001b[0mdf\u001b[0m\u001b[0;34m[\u001b[0m\u001b[0;34m'secu'\u001b[0m\u001b[0;34m]\u001b[0m \u001b[0;34m==\u001b[0m \u001b[0;36m21.0\u001b[0m\u001b[0;34m)\u001b[0m\u001b[0;34m]\u001b[0m\u001b[0;34m.\u001b[0m\u001b[0mtolist\u001b[0m\u001b[0;34m(\u001b[0m\u001b[0;34m)\u001b[0m\u001b[0;34m\u001b[0m\u001b[0;34m\u001b[0m\u001b[0m\n\u001b[1;32m      5\u001b[0m \u001b[0mdf_usagers\u001b[0m\u001b[0;34m.\u001b[0m\u001b[0mloc\u001b[0m\u001b[0;34m[\u001b[0m\u001b[0mind\u001b[0m\u001b[0;34m,\u001b[0m \u001b[0;34m'secu1'\u001b[0m\u001b[0;34m]\u001b[0m \u001b[0;34m=\u001b[0m \u001b[0;36m2.0\u001b[0m\u001b[0;34m\u001b[0m\u001b[0;34m\u001b[0m\u001b[0m\n",
      "\u001b[0;31mNameError\u001b[0m: name 'df_usagers' is not defined"
     ]
    }
   ],
   "source": [
    "ind= df_usagers.index[(df_usagers['secu'] == 11.0)].tolist()\n",
    "df_usagers.loc[ind, 'secu1'] = 1.0\n",
    "\n",
    "ind= df_usagers.index[(df['secu'] == 21.0)].tolist()\n",
    "df_usagers.loc[ind, 'secu1'] = 2.0\n",
    "\n",
    "ind= df_usagers.index[(df_usagers['secu'] == 31.0)].tolist()\n",
    "df_usagers.loc[ind, 'secu1'] = 3.0\n",
    "\n",
    "ind= df_usagers.index[(df_usagers['secu'] == 41.0)].tolist()\n",
    "df_usagers.loc[ind, 'secu1'] = 4.0\n",
    "\n",
    "ind= df_usagers.index[(df_usagers['secu'] == 91.0)].tolist()\n",
    "df_usagers.loc[ind, 'secu1'] = 9.0\n",
    "\n",
    "df_usagers['secu1'].value_counts(dropna=False)"
   ]
  },
  {
   "cell_type": "code",
   "execution_count": null,
   "id": "zsDAbbFmkflY",
   "metadata": {
    "id": "zsDAbbFmkflY"
   },
   "outputs": [],
   "source": [
    "# suppression d la colonne secu devenue inutile \n",
    "\n",
    "df_usagers = df_usagers.drop('secu', axis=1)"
   ]
  },
  {
   "cell_type": "markdown",
   "id": "eX_sB5Mh-zeG",
   "metadata": {
    "id": "eX_sB5Mh-zeG"
   },
   "source": [
    "## Remplacement des valeurs en Nan (-1, 0, 4) \n",
    "\n",
    "tous les -1 correspondent à des Nan \n",
    " \n",
    "etatp comporte des 0 non prévues dans la documentation \n",
    "\n",
    "catu comporte des 4 non prévues dans la documentation\n",
    "\n",
    "trajet comporte des 0 signifie Non renseigné"
   ]
  },
  {
   "cell_type": "code",
   "execution_count": null,
   "id": "ktRqeYAJ-pGd",
   "metadata": {
    "colab": {
     "base_uri": "https://localhost:8080/"
    },
    "executionInfo": {
     "elapsed": 1251,
     "status": "ok",
     "timestamp": 1683293828190,
     "user": {
      "displayName": "Juliette Brezillon",
      "userId": "07340868198097010212"
     },
     "user_tz": -120
    },
    "id": "ktRqeYAJ-pGd",
    "outputId": "261ddf41-205e-4cde-efcb-f3838aec959e"
   },
   "outputs": [
    {
     "name": "stdout",
     "output_type": "stream",
     "text": [
      "Num_Acc             0\n",
      "num_veh             0\n",
      "an_nais          3097\n",
      "place           10977\n",
      "catu                0\n",
      "sexe             3062\n",
      "trajet           4140\n",
      "secu1           29767\n",
      "secu2          264999\n",
      "secu3          493368\n",
      "locp           220295\n",
      "actp           190692\n",
      "etatp          393650\n",
      "grav               60\n",
      "id_vehicule    130169\n",
      "dtype: int64\n",
      "Num_Acc             0\n",
      "num_veh             0\n",
      "an_nais          3097\n",
      "place           10977\n",
      "catu                0\n",
      "sexe             3062\n",
      "trajet           4140\n",
      "secu1           29767\n",
      "secu2          264999\n",
      "secu3          493368\n",
      "locp           220295\n",
      "actp           190692\n",
      "etatp          393650\n",
      "grav               60\n",
      "id_vehicule    130169\n",
      "dtype: int64\n"
     ]
    }
   ],
   "source": [
    "# remplacement des -1 par Nan\n",
    "\n",
    "print(df_usagers.isna().sum())\n",
    "df_usagers = df_usagers.replace(-1, np.nan)\n",
    "print(df_usagers.isna().sum())"
   ]
  },
  {
   "cell_type": "code",
   "execution_count": null,
   "id": "jB_O9VESGJ7v",
   "metadata": {
    "colab": {
     "base_uri": "https://localhost:8080/"
    },
    "executionInfo": {
     "elapsed": 8,
     "status": "ok",
     "timestamp": 1683293846614,
     "user": {
      "displayName": "Juliette Brezillon",
      "userId": "07340868198097010212"
     },
     "user_tz": -120
    },
    "id": "jB_O9VESGJ7v",
    "outputId": "8b1e6efe-0b2b-46dc-9924-951b35d78c8e"
   },
   "outputs": [
    {
     "name": "stdout",
     "output_type": "stream",
     "text": [
      "NaN    393650\n",
      "0.0     65020\n",
      "1.0     29492\n",
      "2.0      7822\n",
      "3.0      1610\n",
      "Name: etatp, dtype: int64\n",
      "NaN    458670\n",
      "1.0     29492\n",
      "2.0      7822\n",
      "3.0      1610\n",
      "Name: etatp, dtype: int64\n"
     ]
    }
   ],
   "source": [
    "# remplacement dans etatp des 0 par des Nan \n",
    "\n",
    "print(df_usagers['etatp'].value_counts(dropna= False))\n",
    "df_usagers['etatp'] = df_usagers['etatp'].replace(0, np.nan)\n",
    "print(df_usagers['etatp'].value_counts(dropna= False))"
   ]
  },
  {
   "cell_type": "code",
   "execution_count": null,
   "id": "B9snsIUeG65y",
   "metadata": {
    "colab": {
     "base_uri": "https://localhost:8080/"
    },
    "executionInfo": {
     "elapsed": 4,
     "status": "ok",
     "timestamp": 1683293862721,
     "user": {
      "displayName": "Juliette Brezillon",
      "userId": "07340868198097010212"
     },
     "user_tz": -120
    },
    "id": "B9snsIUeG65y",
    "outputId": "94a97f83-3111-4f7b-c936-5a166e35dec0"
   },
   "outputs": [
    {
     "name": "stdout",
     "output_type": "stream",
     "text": [
      "1    368830\n",
      "2     88822\n",
      "3     39942\n",
      "Name: catu, dtype: int64\n",
      "1    368830\n",
      "2     88822\n",
      "3     39942\n",
      "Name: catu, dtype: int64\n"
     ]
    }
   ],
   "source": [
    "# remplacement dans catu des 4 par des Nan \n",
    "\n",
    "print(df_usagers['catu'].value_counts(dropna= False))\n",
    "df_usagers['catu'] = df_usagers['catu'].replace(4, np.nan)\n",
    "print(df_usagers['catu'].value_counts(dropna= False))"
   ]
  },
  {
   "cell_type": "code",
   "execution_count": null,
   "id": "tEi4gZ5aG6_S",
   "metadata": {
    "colab": {
     "base_uri": "https://localhost:8080/"
    },
    "executionInfo": {
     "elapsed": 4,
     "status": "ok",
     "timestamp": 1683293873895,
     "user": {
      "displayName": "Juliette Brezillon",
      "userId": "07340868198097010212"
     },
     "user_tz": -120
    },
    "id": "tEi4gZ5aG6_S",
    "outputId": "fb0f6a96-0a0a-4852-ded8-e7557eaa09dd"
   },
   "outputs": [
    {
     "name": "stdout",
     "output_type": "stream",
     "text": [
      "5.0    188406\n",
      "0.0    122060\n",
      "1.0     67510\n",
      "4.0     47184\n",
      "9.0     41330\n",
      "3.0     16101\n",
      "2.0     10863\n",
      "NaN      4140\n",
      "Name: trajet, dtype: int64\n",
      "5.0    188406\n",
      "0.0    122060\n",
      "1.0     67510\n",
      "NaN     51324\n",
      "9.0     41330\n",
      "3.0     16101\n",
      "2.0     10863\n",
      "Name: trajet, dtype: int64\n"
     ]
    }
   ],
   "source": [
    "# remplacement dans trajet des 0 par des Nan \n",
    "\n",
    "print(df_usagers['trajet'].value_counts(dropna= False))\n",
    "df_usagers['trajet'] = df_usagers['trajet'].replace(4, np.nan)\n",
    "print(df_usagers['trajet'].value_counts(dropna= False))"
   ]
  },
  {
   "cell_type": "markdown",
   "id": "tZKMEVy_--Zd",
   "metadata": {
    "id": "tZKMEVy_--Zd"
   },
   "source": [
    "## Traitements des Nan"
   ]
  },
  {
   "cell_type": "code",
   "execution_count": null,
   "id": "5AMplwOHHNFj",
   "metadata": {
    "colab": {
     "base_uri": "https://localhost:8080/",
     "height": 694
    },
    "executionInfo": {
     "elapsed": 807,
     "status": "ok",
     "timestamp": 1683293887099,
     "user": {
      "displayName": "Juliette Brezillon",
      "userId": "07340868198097010212"
     },
     "user_tz": -120
    },
    "id": "5AMplwOHHNFj",
    "outputId": "1ac77609-20f3-43f5-c110-feacb3af81b4"
   },
   "outputs": [
    {
     "data": {
      "text/plain": [
       "<Axes: >"
      ]
     },
     "execution_count": 55,
     "metadata": {},
     "output_type": "execute_result"
    },
    {
     "data": {
      "image/png": "[encoded data removed]",
      "text/plain": [
       "<Figure size 800x800 with 1 Axes>"
      ]
     },
     "metadata": {},
     "output_type": "display_data"
    }
   ],
   "source": [
    "# Graphique Nan\n",
    "\n",
    "nan_values = df_usagers.isna().sum()\n",
    "\n",
    "nan_values = nan_values.sort_values(ascending=True)*100/df_usagers.shape[0]\n",
    "nan_values.plot(kind='barh', \n",
    "                     figsize=(8, 8), \n",
    "                     color='#AF7AC5',\n",
    "                     zorder=2,\n",
    "                     width=0.85)"
   ]
  },
  {
   "cell_type": "code",
   "execution_count": null,
   "id": "_yebCTq0u-h1",
   "metadata": {
    "id": "_yebCTq0u-h1"
   },
   "outputs": [],
   "source": [
    "# suppression des variables avec >20% de Nan \n"
   ]
  },
  {
   "cell_type": "code",
   "execution_count": null,
   "id": "LPJl8gfbu-nE",
   "metadata": {
    "id": "LPJl8gfbu-nE"
   },
   "outputs": [],
   "source": [
    "# remplacement des Nan par autre valeurs \n"
   ]
  },
  {
   "cell_type": "markdown",
   "id": "6DEolvvv47Z7",
   "metadata": {
    "id": "6DEolvvv47Z7"
   },
   "source": [
    "# Corrélation entre les variables"
   ]
  },
  {
   "cell_type": "code",
   "execution_count": null,
   "id": "6osdS_jUvShM",
   "metadata": {
    "colab": {
     "base_uri": "https://localhost:8080/",
     "height": 788
    },
    "executionInfo": {
     "elapsed": 788,
     "status": "ok",
     "timestamp": 1683293939593,
     "user": {
      "displayName": "Juliette Brezillon",
      "userId": "07340868198097010212"
     },
     "user_tz": -120
    },
    "id": "6osdS_jUvShM",
    "outputId": "af321b33-d538-4341-c929-929445c81e18"
   },
   "outputs": [
    {
     "name": "stderr",
     "output_type": "stream",
     "text": [
      "<ipython-input-56-e95590bd45e5>:2: FutureWarning: The default value of numeric_only in DataFrame.corr is deprecated. In a future version, it will default to False. Select only valid columns or specify the value of numeric_only to silence this warning.\n",
      "  corr_matrix = df_usagers.corr(method='pearson')\n"
     ]
    },
    {
     "data": {
      "image/png": "[encoded data removed]",
      "text/plain": [
       "<Figure size 1000x800 with 2 Axes>"
      ]
     },
     "metadata": {},
     "output_type": "display_data"
    }
   ],
   "source": [
    "# Calculer la corrélation entre toutes les colonnes\n",
    "corr_matrix = df_usagers.corr(method='pearson')\n",
    "\n",
    "# Créer la heatmap de corrélation\n",
    "plt.subplots(figsize=(10, 8))\n",
    "sns.heatmap(corr_matrix, annot=True, cmap='coolwarm')\n",
    "\n",
    "# Afficher la heatmap\n",
    "plt.show()\n"
   ]
  },
  {
   "cell_type": "markdown",
   "id": "XuY1p1m8Nrqz",
   "metadata": {
    "id": "XuY1p1m8Nrqz"
   },
   "source": [
    "La variable cible grav n'est corrélé à aucune variable descriptives \n",
    "\n",
    "Les variables catu et place sont très fortement corrélées \n",
    "\n",
    "Les variables secu3 et secu2 sont forteent corrélées\n",
    "\n",
    "Les variables locp et actp sont fortement corrélées\n",
    "\n",
    "Les variables place et locp sont corrélées\n",
    "\n",
    "Les variables placeet actp\n",
    "\n",
    "Les variables place et secu3 sont corrélées négativement \n",
    "\n",
    "Les variables catu et secu3 sont corrélées négativement \n",
    "\n",
    "Les variables locp et secu3 sont corrélées négativement \n",
    "\n",
    "Les variables actp et secu3 sont corrélées négativement \n"
   ]
  },
  {
   "cell_type": "code",
   "execution_count": null,
   "id": "7u5mN02zI5fu",
   "metadata": {
    "id": "7u5mN02zI5fu"
   },
   "outputs": [],
   "source": [
    "# test CHI2\n",
    "\n",
    "from scipy.stats import chi2_contingency\n",
    "\n",
    "df_place= pd.crosstab(.place, df_usagers.grav)\n",
    "df_catu = pd.crosstab(df_usagers.catu, df_usagers.grav)\n",
    "df_sexe = pd.crosstab(df_usagers.sexe, df_usagers.grav)\n",
    "df_trajet= pd.crosstab(df_usagers.trajet, df_usagers.grav)\n",
    "df_secu1 = pd.crosstab(df_usagers.secu1, df_usagers.grav)\n",
    "df_secu2 = pd.crosstab(df_usagers.secu2, df_usagers.grav)\n",
    "df_secu3 = pd.crosstab(df_usagers.secu3, df_usagers.grav)\n",
    "df_locp= pd.crosstab(df_usagers.locp, df_usagers.grav)\n",
    "df_actp= pd.crosstab(df_usagers.actp, df_usagers.grav)\n",
    "df_etatp= pd.crosstab(df_usagers.etatp, df_usagers.grav)\n"
   ]
  },
  {
   "cell_type": "code",
   "execution_count": null,
   "id": "o9F2TLXvI5bP",
   "metadata": {
    "id": "o9F2TLXvI5bP"
   },
   "outputs": [],
   "source": [
    "# Test du chi2 pour chaque variable\n",
    "\n",
    "place_chi2, place_p, place_dof, place_expected = chi2_contingency(df_place)\n",
    "catu_chi2, catu_p, catu_dof, catu_expected = chi2_contingency(df_catu)\n",
    "sexe_chi2, sexe_p, sexe_dof, sexe_expected = chi2_contingency(df_sexe)\n",
    "trajet_chi2, trajet_p, trajet_dof, trajet_expected = chi2_contingency(df_trajet)\n",
    "secu1_chi2, secu1_p, secu1_dof, secu1_expected = chi2_contingency(df_secu1)\n",
    "secu2_chi2, secu2_p, secu2_dof, secu2_expected = chi2_contingency(df_secu2)\n",
    "secu3_chi2, secu3_p, secu3_dof, secu3_expected = chi2_contingency(df_secu3)\n",
    "locp_chi2, locp_p, locp_dof, locp_expected = chi2_contingency(df_locp)\n",
    "actp_chi2, actp_p, actp_dof, actp_expected = chi2_contingency(df_actp)\n",
    "etatp_chi2, etatp_p, etatp_dof, etatp_expected = chi2_contingency(df_etatp)\n"
   ]
  },
  {
   "cell_type": "code",
   "execution_count": null,
   "id": "jDaXhILMJ3JY",
   "metadata": {
    "id": "jDaXhILMJ3JY"
   },
   "outputs": [],
   "source": [
    "# Créer un dictionnaire contenant les valeurs\n",
    "dic_place = {'var': \"place\", 'chi2': [place_chi2], 'p-value': [place_p], 'Degrees of freedom': [place_dof]}\n",
    "dic_catu = {'var': \"catu\", 'chi2': [catu_chi2], 'p-value': [catu_p], 'Degrees of freedom': [catu_dof]}\n",
    "dic_sexe = {'var': \"sexe\", 'chi2': [sexe_chi2], 'p-value': [sexe_p], 'Degrees of freedom': [sexe_dof]}\n",
    "dic_trajet = {'var': \"trajet\", 'chi2': [trajet_chi2], 'p-value': [trajet_p], 'Degrees of freedom': [trajet_dof]}\n",
    "dic_secu1 = {'var': \"secu1\", 'chi2': [secu1_chi2], 'p-value': [secu1_p], 'Degrees of freedom': [secu1_dof]}\n",
    "dic_secu2 = {'var': \"secu2\", 'chi2': [secu2_chi2], 'p-value': [secu2_p], 'Degrees of freedom': [secu2_dof]}\n",
    "dic_secu3 = {'var': \"secu3\", 'chi2': [secu3_chi2], 'p-value': [secu3_p], 'Degrees of freedom': [secu3_dof]}\n",
    "dic_locp= {'var': \"locp\", 'chi2': [locp_chi2], 'p-value': [locp_p], 'Degrees of freedom': [locp_dof]}\n",
    "dic_actp= {'var': \"actp\", 'chi2': [actp_chi2], 'p-value': [actp_p], 'Degrees of freedom': [actp_dof]}\n",
    "dic_etatp= {'var': \"etatp\", 'chi2': [etatp_chi2], 'p-value': [etatp_p], 'Degrees of freedom': [etatp_dof]}\n",
    "\n",
    "\n",
    "# Création des dataframes\n",
    "df1 = pd.DataFrame(dic_place)\n",
    "df2 = pd.DataFrame(dic_catu)\n",
    "df3 = pd.DataFrame(dic_sexe)\n",
    "df4 = pd.DataFrame(dic_trajet)\n",
    "df5 = pd.DataFrame(dic_secu1)\n",
    "df6 = pd.DataFrame(dic_secu2)\n",
    "df7 = pd.DataFrame(dic_secu3)\n",
    "df8 = pd.DataFrame(dic_locp)\n",
    "df9 = pd.DataFrame(dic_actp)\n",
    "df10 = pd.DataFrame(dic_etatp)\n",
    "\n",
    "# Concaténation des dataFrames\n",
    "df_chi2 = pd.concat([df1, df2, df3, df4, df5, df6, df7, df8, df9, df10], axis=0)"
   ]
  },
  {
   "cell_type": "code",
   "execution_count": null,
   "id": "EXXJyX-3J3Nl",
   "metadata": {
    "colab": {
     "base_uri": "https://localhost:8080/",
     "height": 363
    },
    "executionInfo": {
     "elapsed": 225,
     "status": "ok",
     "timestamp": 1683294961689,
     "user": {
      "displayName": "Juliette Brezillon",
      "userId": "07340868198097010212"
     },
     "user_tz": -120
    },
    "id": "EXXJyX-3J3Nl",
    "outputId": "24c4c9dc-05c5-46fc-da95-edac9a01ee2a"
   },
   "outputs": [
    {
     "data": {
      "text/html": [
       "\n",
       "  <div id=\"df-84830d56-9c8e-4a8f-8a91-738ddd69131c\">\n",
       "    <div class=\"colab-df-container\">\n",
       "      <div>\n",
       "<style scoped>\n",
       "    .dataframe tbody tr th:only-of-type {\n",
       "        vertical-align: middle;\n",
       "    }\n",
       "\n",
       "    .dataframe tbody tr th {\n",
       "        vertical-align: top;\n",
       "    }\n",
       "\n",
       "    .dataframe thead th {\n",
       "        text-align: right;\n",
       "    }\n",
       "</style>\n",
       "<table border=\"1\" class=\"dataframe\">\n",
       "  <thead>\n",
       "    <tr style=\"text-align: right;\">\n",
       "      <th></th>\n",
       "      <th>var</th>\n",
       "      <th>chi2</th>\n",
       "      <th>p-value</th>\n",
       "      <th>Degrees of freedom</th>\n",
       "    </tr>\n",
       "  </thead>\n",
       "  <tbody>\n",
       "    <tr>\n",
       "      <th>0</th>\n",
       "      <td>secu1</td>\n",
       "      <td>99128.242977</td>\n",
       "      <td>0.000000e+00</td>\n",
       "      <td>27</td>\n",
       "    </tr>\n",
       "    <tr>\n",
       "      <th>0</th>\n",
       "      <td>catu</td>\n",
       "      <td>31880.215334</td>\n",
       "      <td>0.000000e+00</td>\n",
       "      <td>6</td>\n",
       "    </tr>\n",
       "    <tr>\n",
       "      <th>0</th>\n",
       "      <td>secu2</td>\n",
       "      <td>29533.711330</td>\n",
       "      <td>0.000000e+00</td>\n",
       "      <td>27</td>\n",
       "    </tr>\n",
       "    <tr>\n",
       "      <th>0</th>\n",
       "      <td>locp</td>\n",
       "      <td>26310.628913</td>\n",
       "      <td>0.000000e+00</td>\n",
       "      <td>27</td>\n",
       "    </tr>\n",
       "    <tr>\n",
       "      <th>0</th>\n",
       "      <td>place</td>\n",
       "      <td>25828.298589</td>\n",
       "      <td>0.000000e+00</td>\n",
       "      <td>27</td>\n",
       "    </tr>\n",
       "    <tr>\n",
       "      <th>0</th>\n",
       "      <td>actp</td>\n",
       "      <td>25108.510160</td>\n",
       "      <td>0.000000e+00</td>\n",
       "      <td>33</td>\n",
       "    </tr>\n",
       "    <tr>\n",
       "      <th>0</th>\n",
       "      <td>trajet</td>\n",
       "      <td>6478.853895</td>\n",
       "      <td>0.000000e+00</td>\n",
       "      <td>15</td>\n",
       "    </tr>\n",
       "    <tr>\n",
       "      <th>0</th>\n",
       "      <td>sexe</td>\n",
       "      <td>4664.954023</td>\n",
       "      <td>0.000000e+00</td>\n",
       "      <td>3</td>\n",
       "    </tr>\n",
       "    <tr>\n",
       "      <th>0</th>\n",
       "      <td>secu3</td>\n",
       "      <td>1073.966906</td>\n",
       "      <td>4.927613e-209</td>\n",
       "      <td>27</td>\n",
       "    </tr>\n",
       "    <tr>\n",
       "      <th>0</th>\n",
       "      <td>etatp</td>\n",
       "      <td>1018.484098</td>\n",
       "      <td>8.984882e-217</td>\n",
       "      <td>6</td>\n",
       "    </tr>\n",
       "  </tbody>\n",
       "</table>\n",
       "</div>\n",
       "      <button class=\"colab-df-convert\" onclick=\"convertToInteractive('df-84830d56-9c8e-4a8f-8a91-738ddd69131c')\"\n",
       "              title=\"Convert this dataframe to an interactive table.\"\n",
       "              style=\"display:none;\">\n",
       "        \n",
       "  <svg xmlns=\"http://www.w3.org/2000/svg\" height=\"24px\"viewBox=\"0 0 24 24\"\n",
       "       width=\"24px\">\n",
       "    <path d=\"M0 0h24v24H0V0z\" fill=\"none\"/>\n",
       "    <path d=\"M18.56 5.44l.94 2.06.94-2.06 2.06-.94-2.06-.94-.94-2.06-.94 2.06-2.06.94zm-11 1L8.5 8.5l.94-2.06 2.06-.94-2.06-.94L8.5 2.5l-.94 2.06-2.06.94zm10 10l.94 2.06.94-2.06 2.06-.94-2.06-.94-.94-2.06-.94 2.06-2.06.94z\"/><path d=\"M17.41 7.96l-1.37-1.37c-.4-.4-.92-.59-1.43-.59-.52 0-1.04.2-1.43.59L10.3 9.45l-7.72 7.72c-.78.78-.78 2.05 0 2.83L4 21.41c.39.39.9.59 1.41.59.51 0 1.02-.2 1.41-.59l7.78-7.78 2.81-2.81c.8-.78.8-2.07 0-2.86zM5.41 20L4 18.59l7.72-7.72 1.47 1.35L5.41 20z\"/>\n",
       "  </svg>\n",
       "      </button>\n",
       "      \n",
       "  <style>\n",
       "    .colab-df-container {\n",
       "      display:flex;\n",
       "      flex-wrap:wrap;\n",
       "      gap: 12px;\n",
       "    }\n",
       "\n",
       "    .colab-df-convert {\n",
       "      background-color: #E8F0FE;\n",
       "      border: none;\n",
       "      border-radius: 50%;\n",
       "      cursor: pointer;\n",
       "      display: none;\n",
       "      fill: #1967D2;\n",
       "      height: 32px;\n",
       "      padding: 0 0 0 0;\n",
       "      width: 32px;\n",
       "    }\n",
       "\n",
       "    .colab-df-convert:hover {\n",
       "      background-color: #E2EBFA;\n",
       "      box-shadow: 0px 1px 2px rgba(60, 64, 67, 0.3), 0px 1px 3px 1px rgba(60, 64, 67, 0.15);\n",
       "      fill: #174EA6;\n",
       "    }\n",
       "\n",
       "    [theme=dark] .colab-df-convert {\n",
       "      background-color: #3B4455;\n",
       "      fill: #D2E3FC;\n",
       "    }\n",
       "\n",
       "    [theme=dark] .colab-df-convert:hover {\n",
       "      background-color: #434B5C;\n",
       "      box-shadow: 0px 1px 3px 1px rgba(0, 0, 0, 0.15);\n",
       "      filter: drop-shadow(0px 1px 2px rgba(0, 0, 0, 0.3));\n",
       "      fill: #FFFFFF;\n",
       "    }\n",
       "  </style>\n",
       "\n",
       "      <script>\n",
       "        const buttonEl =\n",
       "          document.querySelector('#df-84830d56-9c8e-4a8f-8a91-738ddd69131c button.colab-df-convert');\n",
       "        buttonEl.style.display =\n",
       "          google.colab.kernel.accessAllowed ? 'block' : 'none';\n",
       "\n",
       "        async function convertToInteractive(key) {\n",
       "          const element = document.querySelector('#df-84830d56-9c8e-4a8f-8a91-738ddd69131c');\n",
       "          const dataTable =\n",
       "            await google.colab.kernel.invokeFunction('convertToInteractive',\n",
       "                                                     [key], {});\n",
       "          if (!dataTable) return;\n",
       "\n",
       "          const docLinkHtml = 'Like what you see? Visit the ' +\n",
       "            '<a target=\"_blank\" href=https://colab.research.google.com/notebooks/data_table.ipynb>data table notebook</a>'\n",
       "            + ' to learn more about interactive tables.';\n",
       "          element.innerHTML = '';\n",
       "          dataTable['output_type'] = 'display_data';\n",
       "          await google.colab.output.renderOutput(dataTable, element);\n",
       "          const docLink = document.createElement('div');\n",
       "          docLink.innerHTML = docLinkHtml;\n",
       "          element.appendChild(docLink);\n",
       "        }\n",
       "      </script>\n",
       "    </div>\n",
       "  </div>\n",
       "  "
      ],
      "text/plain": [
       "      var          chi2        p-value  Degrees of freedom\n",
       "0   secu1  99128.242977   0.000000e+00                  27\n",
       "0    catu  31880.215334   0.000000e+00                   6\n",
       "0   secu2  29533.711330   0.000000e+00                  27\n",
       "0    locp  26310.628913   0.000000e+00                  27\n",
       "0   place  25828.298589   0.000000e+00                  27\n",
       "0    actp  25108.510160   0.000000e+00                  33\n",
       "0  trajet   6478.853895   0.000000e+00                  15\n",
       "0    sexe   4664.954023   0.000000e+00                   3\n",
       "0   secu3   1073.966906  4.927613e-209                  27\n",
       "0   etatp   1018.484098  8.984882e-217                   6"
      ]
     },
     "execution_count": 66,
     "metadata": {},
     "output_type": "execute_result"
    }
   ],
   "source": [
    "df_chi2 = df_chi2.sort_values(by='chi2', ascending=False)\n",
    "df_chi2.head(10)"
   ]
  },
  {
   "cell_type": "code",
   "execution_count": null,
   "id": "rf1ErmesJ3Rm",
   "metadata": {
    "id": "rf1ErmesJ3Rm"
   },
   "outputs": [],
   "source": [
    "# Toutes les variables ont une p-value nulle donc il y a bien corrélation avec la gravité pour chacune d'elle.\n",
    "# La plus corrélées est secu1 et très logiquement\n",
    "# la moins corrélée est etat p"
   ]
  },
  {
   "cell_type": "code",
   "execution_count": null,
   "id": "o3KYRt0nJ3V3",
   "metadata": {
    "id": "o3KYRt0nJ3V3"
   },
   "outputs": [],
   "source": []
  },
  {
   "cell_type": "markdown",
   "id": "IJQJx0WjfE6O",
   "metadata": {
    "id": "IJQJx0WjfE6O"
   },
   "source": [
    "# Graphiques"
   ]
  },
  {
   "cell_type": "code",
   "execution_count": null,
   "id": "NtCyCcCFvSoK",
   "metadata": {
    "colab": {
     "base_uri": "https://localhost:8080/",
     "height": 577
    },
    "executionInfo": {
     "elapsed": 836,
     "status": "ok",
     "timestamp": 1683295114763,
     "user": {
      "displayName": "Juliette Brezillon",
      "userId": "07340868198097010212"
     },
     "user_tz": -120
    },
    "id": "NtCyCcCFvSoK",
    "outputId": "49b51bbf-d0b0-4f7f-e802-9e0fc9f3ffb3"
   },
   "outputs": [
    {
     "data": {
      "text/plain": [
       "<matplotlib.legend.Legend at 0x7ff7c42031f0>"
      ]
     },
     "execution_count": 69,
     "metadata": {},
     "output_type": "execute_result"
    },
    {
     "data": {
      "image/png": "[encoded data removed]",
      "text/plain": [
       "<Figure size 640x480 with 1 Axes>"
      ]
     },
     "metadata": {},
     "output_type": "display_data"
    }
   ],
   "source": [
    "# grav : 1 Indemne / 2 Tué/ 3 Blessé hospitalisé /4 – Blessé léger \n",
    "# sexe : 1 masculin / 2 Féminin\n",
    "\n",
    "lab = ['Indemne', ' Tué', 'Blessé hospitalisé', 'Blessé léger']\n",
    "lab2= [\"Masculin\", \"Féminin\"]\n",
    "\n",
    "ax1 = pd.crosstab(df_usagers['grav'],df_usagers['sexe']).plot.bar()\n",
    "ax1.set_xticklabels(lab)\n",
    "plt.legend(lab2)\n"
   ]
  },
  {
   "cell_type": "code",
   "execution_count": null,
   "id": "wMOPR4bQApdi",
   "metadata": {
    "colab": {
     "base_uri": "https://localhost:8080/",
     "height": 468
    },
    "executionInfo": {
     "elapsed": 563,
     "status": "ok",
     "timestamp": 1683295122341,
     "user": {
      "displayName": "Juliette Brezillon",
      "userId": "07340868198097010212"
     },
     "user_tz": -120
    },
    "id": "wMOPR4bQApdi",
    "outputId": "36cc67e3-ead2-4532-fbb7-57479aa88056"
   },
   "outputs": [
    {
     "data": {
      "text/plain": [
       "<matplotlib.legend.Legend at 0x7ff7c4328610>"
      ]
     },
     "execution_count": 70,
     "metadata": {},
     "output_type": "execute_result"
    },
    {
     "data": {
      "image/png": "[encoded data removed]",
      "text/plain": [
       "<Figure size 640x480 with 1 Axes>"
      ]
     },
     "metadata": {},
     "output_type": "display_data"
    }
   ],
   "source": [
    "\n",
    "\n",
    "pd.crosstab(df_usagers['an_nais'],df_usagers['grav']).plot()\n",
    "lab2= [\"Masculin\", \"Féminin\"]\n",
    "plt.legend(lab)\n"
   ]
  },
  {
   "cell_type": "code",
   "execution_count": null,
   "id": "1Y8sH8vo1YrE",
   "metadata": {
    "colab": {
     "base_uri": "https://localhost:8080/",
     "height": 577
    },
    "executionInfo": {
     "elapsed": 383,
     "status": "ok",
     "timestamp": 1683295132082,
     "user": {
      "displayName": "Juliette Brezillon",
      "userId": "07340868198097010212"
     },
     "user_tz": -120
    },
    "id": "1Y8sH8vo1YrE",
    "outputId": "da7c35a6-5dd6-4b4d-d00d-493223996a54"
   },
   "outputs": [
    {
     "data": {
      "text/plain": [
       "<matplotlib.legend.Legend at 0x7ff7c449c400>"
      ]
     },
     "execution_count": 71,
     "metadata": {},
     "output_type": "execute_result"
    },
    {
     "data": {
      "image/png": "[encoded data removed]",
      "text/plain": [
       "<Figure size 640x480 with 1 Axes>"
      ]
     },
     "metadata": {},
     "output_type": "display_data"
    }
   ],
   "source": [
    "lab = ['Indemne', ' Tué', 'Blessé hospitalisé', 'Blessé léger']\n",
    "lab2= [\"conducteur\", \"passager\", \"piéton\"]\n",
    "\n",
    "ax1 = pd.crosstab(df_usagers['grav'],df_usagers['catu']).plot.bar()\n",
    "ax1.set_xticklabels(lab)\n",
    "plt.legend(lab2)\n"
   ]
  },
  {
   "cell_type": "code",
   "execution_count": null,
   "id": "v8YcOO0114vl",
   "metadata": {
    "colab": {
     "base_uri": "https://localhost:8080/",
     "height": 556
    },
    "executionInfo": {
     "elapsed": 690,
     "status": "ok",
     "timestamp": 1683295150336,
     "user": {
      "displayName": "Juliette Brezillon",
      "userId": "07340868198097010212"
     },
     "user_tz": -120
    },
    "id": "v8YcOO0114vl",
    "outputId": "3324e455-b58f-4572-ff55-1028f3df5d91"
   },
   "outputs": [
    {
     "data": {
      "text/plain": [
       "<matplotlib.legend.Legend at 0x7ff7c41b5120>"
      ]
     },
     "execution_count": 73,
     "metadata": {},
     "output_type": "execute_result"
    },
    {
     "data": {
      "image/png": "[encoded data removed]",
      "text/plain": [
       "<Figure size 640x480 with 1 Axes>"
      ]
     },
     "metadata": {},
     "output_type": "display_data"
    }
   ],
   "source": [
    "\n",
    "lab = ['Indemne', ' Tué', 'Blessé hospitalisé', 'Blessé léger']\n",
    "lab2= [\"conducteur\", \"avant droite\", \"arrière droit\",  'arrière gauche', 'arrière milieu',' devant milieu',' milieu gauche', 'milieu milieu', 'milieu droit','piéton']\n",
    "\n",
    "ax1 = pd.crosstab(df_usagers['place'],df_usagers['grav']).plot.bar()\n",
    "ax1.set_xticklabels(lab2)\n",
    "plt.legend(lab)\n"
   ]
  },
  {
   "cell_type": "code",
   "execution_count": null,
   "id": "T7Dd7-cB1mJj",
   "metadata": {
    "colab": {
     "base_uri": "https://localhost:8080/",
     "height": 532
    },
    "executionInfo": {
     "elapsed": 1747,
     "status": "ok",
     "timestamp": 1683295163462,
     "user": {
      "displayName": "Juliette Brezillon",
      "userId": "07340868198097010212"
     },
     "user_tz": -120
    },
    "id": "T7Dd7-cB1mJj",
    "outputId": "899ccdf6-9a7b-46c0-9d48-97e6813e28c9"
   },
   "outputs": [
    {
     "data": {
      "text/plain": [
       "<matplotlib.legend.Legend at 0x7ff7c470ada0>"
      ]
     },
     "execution_count": 74,
     "metadata": {},
     "output_type": "execute_result"
    },
    {
     "data": {
      "image/png": "[encoded data removed]",
      "text/plain": [
       "<Figure size 640x480 with 1 Axes>"
      ]
     },
     "metadata": {},
     "output_type": "display_data"
    }
   ],
   "source": [
    "# sexe : 1 masculin / 2 Féminin\n",
    "# catu : 1 conducteur / 2 passager / 3 piéton\n",
    "\n",
    "lab = ['masculin', ' féminin']\n",
    "lab2= [\"conducteur\", \"passager\", \"piéton\"]\n",
    "\n",
    "ax1 = pd.crosstab(df_usagers['catu'],df_usagers['sexe']).plot.bar()\n",
    "ax1.set_xticklabels(lab2)\n",
    "plt.legend(lab)"
   ]
  },
  {
   "cell_type": "code",
   "execution_count": null,
   "id": "G-Cut0pi26gA",
   "metadata": {
    "colab": {
     "base_uri": "https://localhost:8080/",
     "height": 747
    },
    "executionInfo": {
     "elapsed": 1479,
     "status": "ok",
     "timestamp": 1683295173612,
     "user": {
      "displayName": "Juliette Brezillon",
      "userId": "07340868198097010212"
     },
     "user_tz": -120
    },
    "id": "G-Cut0pi26gA",
    "outputId": "3a0c9502-df7b-41bd-b6cf-4f3d27a26d3c"
   },
   "outputs": [
    {
     "data": {
      "text/plain": [
       "[Text(0, 0, 'Aucun équipement'),\n",
       " Text(1, 0, ' Ceinture'),\n",
       " Text(2, 0, 'Casque'),\n",
       " Text(3, 0, 'Dispo enfants'),\n",
       " Text(4, 0, 'Gilet refléchissant'),\n",
       " Text(5, 0, 'Airbag'),\n",
       " Text(6, 0, 'Gants'),\n",
       " Text(7, 0, 'Gants+airbags'),\n",
       " Text(8, 0, 'Non séterminable'),\n",
       " Text(9, 0, 'Autre')]"
      ]
     },
     "execution_count": 75,
     "metadata": {},
     "output_type": "execute_result"
    },
    {
     "data": {
      "image/png": "[encoded data removed]",
      "text/plain": [
       "<Figure size 640x480 with 1 Axes>"
      ]
     },
     "metadata": {},
     "output_type": "display_data"
    }
   ],
   "source": [
    "\n",
    "lab = ['Aucun équipement', ' Ceinture', 'Casque', \"Dispo enfants\", 'Gilet refléchissant', 'Airbag', 'Gants', 'Gants+airbags', 'Non séterminable', 'Autre']\n",
    "ax1 =df_usagers.groupby('secu1').size().plot.bar()\n",
    "ax1.set_xticklabels(lab)\n"
   ]
  },
  {
   "cell_type": "code",
   "execution_count": null,
   "id": "8-ljofZB62no",
   "metadata": {
    "colab": {
     "base_uri": "https://localhost:8080/",
     "height": 747
    },
    "executionInfo": {
     "elapsed": 486,
     "status": "ok",
     "timestamp": 1683295180144,
     "user": {
      "displayName": "Juliette Brezillon",
      "userId": "07340868198097010212"
     },
     "user_tz": -120
    },
    "id": "8-ljofZB62no",
    "outputId": "fba3d176-d111-4a3c-cd54-5cc16105861f"
   },
   "outputs": [
    {
     "data": {
      "text/plain": [
       "[Text(0, 0, 'Aucun équipement'),\n",
       " Text(1, 0, ' Ceinture'),\n",
       " Text(2, 0, 'Casque'),\n",
       " Text(3, 0, 'Dispo enfants'),\n",
       " Text(4, 0, 'Gilet refléchissant'),\n",
       " Text(5, 0, 'Airbag'),\n",
       " Text(6, 0, 'Gants'),\n",
       " Text(7, 0, 'Gants+airbags'),\n",
       " Text(8, 0, 'Non séterminable'),\n",
       " Text(9, 0, 'Autre')]"
      ]
     },
     "execution_count": 76,
     "metadata": {},
     "output_type": "execute_result"
    },
    {
     "data": {
      "image/png": "[encoded data removed]",
      "text/plain": [
       "<Figure size 640x480 with 1 Axes>"
      ]
     },
     "metadata": {},
     "output_type": "display_data"
    }
   ],
   "source": [
    "\n",
    "lab = ['Aucun équipement', ' Ceinture', 'Casque', \"Dispo enfants\", 'Gilet refléchissant', 'Airbag', 'Gants', 'Gants+airbags', 'Non séterminable', 'Autre']\n",
    "ax1 =df_usagers.groupby('secu2').size().plot.bar()\n",
    "ax1.set_xticklabels(lab)\n"
   ]
  },
  {
   "cell_type": "code",
   "execution_count": null,
   "id": "U0h-6OPj66jE",
   "metadata": {
    "colab": {
     "base_uri": "https://localhost:8080/",
     "height": 747
    },
    "executionInfo": {
     "elapsed": 1116,
     "status": "ok",
     "timestamp": 1683295191413,
     "user": {
      "displayName": "Juliette Brezillon",
      "userId": "07340868198097010212"
     },
     "user_tz": -120
    },
    "id": "U0h-6OPj66jE",
    "outputId": "52706a76-912a-42c5-b50e-b8f9f916ec66"
   },
   "outputs": [
    {
     "data": {
      "text/plain": [
       "[Text(0, 0, 'Aucun équipement'),\n",
       " Text(1, 0, ' Ceinture'),\n",
       " Text(2, 0, 'Casque'),\n",
       " Text(3, 0, 'Dispo enfants'),\n",
       " Text(4, 0, 'Gilet refléchissant'),\n",
       " Text(5, 0, 'Airbag'),\n",
       " Text(6, 0, 'Gants'),\n",
       " Text(7, 0, 'Gants+airbags'),\n",
       " Text(8, 0, 'Non séterminable'),\n",
       " Text(9, 0, 'Autre')]"
      ]
     },
     "execution_count": 77,
     "metadata": {},
     "output_type": "execute_result"
    },
    {
     "data": {
      "image/png": "[encoded data removed]",
      "text/plain": [
       "<Figure size 640x480 with 1 Axes>"
      ]
     },
     "metadata": {},
     "output_type": "display_data"
    }
   ],
   "source": [
    "lab = ['Aucun équipement', ' Ceinture', 'Casque', \"Dispo enfants\", 'Gilet refléchissant', 'Airbag', 'Gants', 'Gants+airbags', 'Non séterminable', 'Autre']\n",
    "ax1 =df_usagers.groupby('secu3').size().plot.bar()\n",
    "ax1.set_xticklabels(lab)\n"
   ]
  }
 ],
 "metadata": {
  "colab": {
   "collapsed_sections": [
    "q85X72uZp2Te",
    "rRs0i7Khw65N",
    "tPF8rl0AmD7m",
    "pKUIvlJrexTJ"
   ],
   "provenance": []
  },
  "kernelspec": {
   "display_name": "Python 3 (ipykernel)",
   "language": "python",
   "name": "python3"
  },
  "language_info": {
   "codemirror_mode": {
    "name": "ipython",
    "version": 3
   },
   "file_extension": ".py",
   "mimetype": "text/x-python",
   "name": "python",
   "nbconvert_exporter": "python",
   "pygments_lexer": "ipython3",
   "version": "3.9.13"
  }
 },
 "nbformat": 4,
 "nbformat_minor": 5
}
